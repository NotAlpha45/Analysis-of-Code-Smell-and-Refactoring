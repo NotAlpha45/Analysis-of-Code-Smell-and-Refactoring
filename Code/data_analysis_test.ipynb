{
 "cells": [
  {
   "cell_type": "code",
   "execution_count": 2,
   "metadata": {},
   "outputs": [],
   "source": [
    "import pandas as pd\n",
    "import numpy as np\n",
    "\n",
    "# Data visualization\n",
    "import matplotlib.pyplot as plt\n",
    "import seaborn as sns\n",
    "\n",
    "# Statistical analysis\n",
    "from scipy import stats\n"
   ]
  },
  {
   "cell_type": "code",
   "execution_count": 3,
   "metadata": {},
   "outputs": [
    {
     "data": {
      "text/html": [
       "<div>\n",
       "<style scoped>\n",
       "    .dataframe tbody tr th:only-of-type {\n",
       "        vertical-align: middle;\n",
       "    }\n",
       "\n",
       "    .dataframe tbody tr th {\n",
       "        vertical-align: top;\n",
       "    }\n",
       "\n",
       "    .dataframe thead th {\n",
       "        text-align: right;\n",
       "    }\n",
       "</style>\n",
       "<table border=\"1\" class=\"dataframe\">\n",
       "  <thead>\n",
       "    <tr style=\"text-align: right;\">\n",
       "      <th></th>\n",
       "      <th>version</th>\n",
       "      <th>date</th>\n",
       "      <th>timestamp</th>\n",
       "      <th>security_issues_low</th>\n",
       "      <th>reliability_issues_low</th>\n",
       "      <th>maintainability_issues_low</th>\n",
       "      <th>total_debt_low</th>\n",
       "      <th>security_issues_medium</th>\n",
       "      <th>reliability_issues_medium</th>\n",
       "      <th>maintainability_issues_medium</th>\n",
       "      <th>total_debt_medium</th>\n",
       "      <th>security_issues_high</th>\n",
       "      <th>reliability_issues_high</th>\n",
       "      <th>maintainability_issues_high</th>\n",
       "      <th>total_debt_high</th>\n",
       "    </tr>\n",
       "  </thead>\n",
       "  <tbody>\n",
       "    <tr>\n",
       "      <th>0</th>\n",
       "      <td>v16.6.3</td>\n",
       "      <td>2018-11-12</td>\n",
       "      <td>1542074346</td>\n",
       "      <td>0</td>\n",
       "      <td>0</td>\n",
       "      <td>0</td>\n",
       "      <td>0</td>\n",
       "      <td>0</td>\n",
       "      <td>0</td>\n",
       "      <td>82</td>\n",
       "      <td>1225</td>\n",
       "      <td>0</td>\n",
       "      <td>0</td>\n",
       "      <td>18</td>\n",
       "      <td>701</td>\n",
       "    </tr>\n",
       "    <tr>\n",
       "      <th>1</th>\n",
       "      <td>v16.7.0</td>\n",
       "      <td>2018-12-14</td>\n",
       "      <td>1544814203</td>\n",
       "      <td>0</td>\n",
       "      <td>0</td>\n",
       "      <td>0</td>\n",
       "      <td>0</td>\n",
       "      <td>0</td>\n",
       "      <td>0</td>\n",
       "      <td>82</td>\n",
       "      <td>1225</td>\n",
       "      <td>0</td>\n",
       "      <td>0</td>\n",
       "      <td>18</td>\n",
       "      <td>701</td>\n",
       "    </tr>\n",
       "    <tr>\n",
       "      <th>2</th>\n",
       "      <td>v16.7.0-alpha.1</td>\n",
       "      <td>2018-11-13</td>\n",
       "      <td>1542137020</td>\n",
       "      <td>0</td>\n",
       "      <td>0</td>\n",
       "      <td>0</td>\n",
       "      <td>0</td>\n",
       "      <td>0</td>\n",
       "      <td>0</td>\n",
       "      <td>82</td>\n",
       "      <td>1220</td>\n",
       "      <td>0</td>\n",
       "      <td>0</td>\n",
       "      <td>18</td>\n",
       "      <td>701</td>\n",
       "    </tr>\n",
       "    <tr>\n",
       "      <th>3</th>\n",
       "      <td>v16.8.0</td>\n",
       "      <td>2019-02-05</td>\n",
       "      <td>1549388061</td>\n",
       "      <td>0</td>\n",
       "      <td>0</td>\n",
       "      <td>0</td>\n",
       "      <td>0</td>\n",
       "      <td>0</td>\n",
       "      <td>0</td>\n",
       "      <td>82</td>\n",
       "      <td>1220</td>\n",
       "      <td>0</td>\n",
       "      <td>0</td>\n",
       "      <td>18</td>\n",
       "      <td>701</td>\n",
       "    </tr>\n",
       "    <tr>\n",
       "      <th>4</th>\n",
       "      <td>v16.8.0-alpha.1</td>\n",
       "      <td>2019-01-15</td>\n",
       "      <td>1547592942</td>\n",
       "      <td>0</td>\n",
       "      <td>0</td>\n",
       "      <td>0</td>\n",
       "      <td>0</td>\n",
       "      <td>0</td>\n",
       "      <td>0</td>\n",
       "      <td>82</td>\n",
       "      <td>1220</td>\n",
       "      <td>0</td>\n",
       "      <td>0</td>\n",
       "      <td>18</td>\n",
       "      <td>510</td>\n",
       "    </tr>\n",
       "  </tbody>\n",
       "</table>\n",
       "</div>"
      ],
      "text/plain": [
       "           version        date   timestamp  security_issues_low  \\\n",
       "0          v16.6.3  2018-11-12  1542074346                    0   \n",
       "1          v16.7.0  2018-12-14  1544814203                    0   \n",
       "2  v16.7.0-alpha.1  2018-11-13  1542137020                    0   \n",
       "3          v16.8.0  2019-02-05  1549388061                    0   \n",
       "4  v16.8.0-alpha.1  2019-01-15  1547592942                    0   \n",
       "\n",
       "   reliability_issues_low  maintainability_issues_low  total_debt_low  \\\n",
       "0                       0                           0               0   \n",
       "1                       0                           0               0   \n",
       "2                       0                           0               0   \n",
       "3                       0                           0               0   \n",
       "4                       0                           0               0   \n",
       "\n",
       "   security_issues_medium  reliability_issues_medium  \\\n",
       "0                       0                          0   \n",
       "1                       0                          0   \n",
       "2                       0                          0   \n",
       "3                       0                          0   \n",
       "4                       0                          0   \n",
       "\n",
       "   maintainability_issues_medium  total_debt_medium  security_issues_high  \\\n",
       "0                             82               1225                     0   \n",
       "1                             82               1225                     0   \n",
       "2                             82               1220                     0   \n",
       "3                             82               1220                     0   \n",
       "4                             82               1220                     0   \n",
       "\n",
       "   reliability_issues_high  maintainability_issues_high  total_debt_high  \n",
       "0                        0                           18              701  \n",
       "1                        0                           18              701  \n",
       "2                        0                           18              701  \n",
       "3                        0                           18              701  \n",
       "4                        0                           18              510  "
      ]
     },
     "execution_count": 3,
     "metadata": {},
     "output_type": "execute_result"
    }
   ],
   "source": [
    "df_react = pd.read_csv(\"../Datasets/react/react_adaptable_issues.csv\")\n",
    "\n",
    "df_react.head()"
   ]
  },
  {
   "cell_type": "code",
   "execution_count": 4,
   "metadata": {},
   "outputs": [
    {
     "data": {
      "text/plain": [
       "Index(['security_issues_low', 'reliability_issues_low',\n",
       "       'maintainability_issues_low', 'total_debt_low',\n",
       "       'security_issues_medium', 'reliability_issues_medium',\n",
       "       'maintainability_issues_medium', 'total_debt_medium',\n",
       "       'security_issues_high', 'reliability_issues_high',\n",
       "       'maintainability_issues_high', 'total_debt_high'],\n",
       "      dtype='object')"
      ]
     },
     "execution_count": 4,
     "metadata": {},
     "output_type": "execute_result"
    }
   ],
   "source": [
    "column_names = df_react.columns[3:]\n",
    "column_names"
   ]
  },
  {
   "cell_type": "code",
   "execution_count": 12,
   "metadata": {},
   "outputs": [
    {
     "data": {
      "image/png": "[encoded data removed]",
      "text/plain": [
       "<Figure size 1200x1000 with 2 Axes>"
      ]
     },
     "metadata": {},
     "output_type": "display_data"
    }
   ],
   "source": [
    "import pandas as pd\n",
    "import seaborn as sns\n",
    "import matplotlib.pyplot as plt\n",
    "\n",
    "# Assuming your data is in a DataFrame named 'df_react'\n",
    "# If not, you can read your data into a DataFrame using pd.read_csv() or another appropriate method\n",
    "\n",
    "# Select the columns you want to include in the correlation matrix\n",
    "selected_columns = ['security_issues_low', 'reliability_issues_low', 'maintainability_issues_low', 'total_debt_low',\n",
    "                    'security_issues_medium', 'reliability_issues_medium', 'maintainability_issues_medium', 'total_debt_medium',\n",
    "                    'security_issues_high', 'reliability_issues_high', 'maintainability_issues_high', 'total_debt_high']\n",
    "\n",
    "# Create a subset DataFrame with selected columns\n",
    "correlation_df = df_react[selected_columns]\n",
    "\n",
    "# Filter out columns where the entire column is zero\n",
    "non_zero_columns = correlation_df.columns[(correlation_df != 0).any()]\n",
    "\n",
    "# Create a subset DataFrame with non-zero columns\n",
    "correlation_nonzero_df = correlation_df[non_zero_columns]\n",
    "\n",
    "# Calculate the correlation matrix for non-zero columns\n",
    "correlation_matrix_nonzero = correlation_nonzero_df.corr()\n",
    "\n",
    "# Create a colorful and sleek heatmap for non-zero columns\n",
    "plt.figure(figsize=(12, 10))\n",
    "sns.set_theme(style=\"whitegrid\")  # Set Seaborn theme\n",
    "cmap = sns.diverging_palette(220, 20, as_cmap=True)  # Choose a diverging color palette\n",
    "\n",
    "# Create the heatmap for non-zero columns\n",
    "sns.heatmap(correlation_matrix_nonzero, annot=True, cmap=cmap, fmt='.2f', linewidths=.5, cbar_kws={\"shrink\": .75})\n",
    "\n",
    "# Add a title\n",
    "plt.title('Correlation Matrix (Non-Zero Columns)', fontsize=16)\n",
    "\n",
    "# Adjust plot aesthetics\n",
    "plt.xticks(rotation=45, ha='right', fontsize=12)\n",
    "plt.yticks(rotation=0, ha='right', fontsize=12)\n",
    "plt.show()\n"
   ]
  },
  {
   "cell_type": "code",
   "execution_count": 16,
   "metadata": {},
   "outputs": [
    {
     "data": {
      "application/vnd.plotly.v1+json": {
       "config": {
        "plotlyServerURL": "https://plot.ly"
       },
       "data": [
        {
         "mode": "lines+markers",
         "name": "Data Points",
         "type": "scatter",
         "x": [
          "1970-01-01T00:00:01.542074",
          "1970-01-01T00:00:01.544814",
          "1970-01-01T00:00:01.542137",
          "1970-01-01T00:00:01.549388",
          "1970-01-01T00:00:01.547592",
          "1970-01-01T00:00:01.549473",
          "1970-01-01T00:00:01.550164",
          "1970-01-01T00:00:01.550769",
          "1970-01-01T00:00:01.551827",
          "1970-01-01T00:00:01.553266",
          "1970-01-01T00:00:01.553756",
          "1970-01-01T00:00:01.565035",
          "1970-01-01T00:00:01.554308",
          "1970-01-01T00:00:01.565035",
          "1970-01-01T00:00:01.603226",
          "1970-01-01T00:00:01.603367",
          "1970-01-01T00:00:01.616443",
          "1970-01-01T00:00:01.648570",
          "1970-01-01T00:00:01.651004",
          "1970-01-01T00:00:01.654732"
         ],
         "y": [
          82,
          82,
          82,
          82,
          82,
          82,
          82,
          82,
          83,
          83,
          83,
          83,
          78,
          78,
          78,
          82,
          82,
          82,
          84,
          84
         ]
        },
        {
         "line": {
          "dash": "dash"
         },
         "mode": "lines",
         "name": "Mean",
         "type": "scatter",
         "x": [
          "1970-01-01T00:00:01.542074",
          "1970-01-01T00:00:01.544814",
          "1970-01-01T00:00:01.542137",
          "1970-01-01T00:00:01.549388",
          "1970-01-01T00:00:01.547592",
          "1970-01-01T00:00:01.549473",
          "1970-01-01T00:00:01.550164",
          "1970-01-01T00:00:01.550769",
          "1970-01-01T00:00:01.551827",
          "1970-01-01T00:00:01.553266",
          "1970-01-01T00:00:01.553756",
          "1970-01-01T00:00:01.565035",
          "1970-01-01T00:00:01.554308",
          "1970-01-01T00:00:01.565035",
          "1970-01-01T00:00:01.603226",
          "1970-01-01T00:00:01.603367",
          "1970-01-01T00:00:01.616443",
          "1970-01-01T00:00:01.648570",
          "1970-01-01T00:00:01.651004",
          "1970-01-01T00:00:01.654732"
         ],
         "y": [
          81.8,
          81.8,
          81.8,
          81.8,
          81.8,
          81.8,
          81.8,
          81.8,
          81.8,
          81.8,
          81.8,
          81.8,
          81.8,
          81.8,
          81.8,
          81.8,
          81.8,
          81.8,
          81.8,
          81.8
         ]
        },
        {
         "line": {
          "dash": "dash"
         },
         "mode": "lines",
         "name": "Upper Control Limit",
         "type": "scatter",
         "x": [
          "1970-01-01T00:00:01.542074",
          "1970-01-01T00:00:01.544814",
          "1970-01-01T00:00:01.542137",
          "1970-01-01T00:00:01.549388",
          "1970-01-01T00:00:01.547592",
          "1970-01-01T00:00:01.549473",
          "1970-01-01T00:00:01.550164",
          "1970-01-01T00:00:01.550769",
          "1970-01-01T00:00:01.551827",
          "1970-01-01T00:00:01.553266",
          "1970-01-01T00:00:01.553756",
          "1970-01-01T00:00:01.565035",
          "1970-01-01T00:00:01.554308",
          "1970-01-01T00:00:01.565035",
          "1970-01-01T00:00:01.603226",
          "1970-01-01T00:00:01.603367",
          "1970-01-01T00:00:01.616443",
          "1970-01-01T00:00:01.648570",
          "1970-01-01T00:00:01.651004",
          "1970-01-01T00:00:01.654732"
         ],
         "y": [
          87.09547970094852,
          87.09547970094852,
          87.09547970094852,
          87.09547970094852,
          87.09547970094852,
          87.09547970094852,
          87.09547970094852,
          87.09547970094852,
          87.09547970094852,
          87.09547970094852,
          87.09547970094852,
          87.09547970094852,
          87.09547970094852,
          87.09547970094852,
          87.09547970094852,
          87.09547970094852,
          87.09547970094852,
          87.09547970094852,
          87.09547970094852,
          87.09547970094852
         ]
        },
        {
         "line": {
          "dash": "dash"
         },
         "mode": "lines",
         "name": "Lower Control Limit",
         "type": "scatter",
         "x": [
          "1970-01-01T00:00:01.542074",
          "1970-01-01T00:00:01.544814",
          "1970-01-01T00:00:01.542137",
          "1970-01-01T00:00:01.549388",
          "1970-01-01T00:00:01.547592",
          "1970-01-01T00:00:01.549473",
          "1970-01-01T00:00:01.550164",
          "1970-01-01T00:00:01.550769",
          "1970-01-01T00:00:01.551827",
          "1970-01-01T00:00:01.553266",
          "1970-01-01T00:00:01.553756",
          "1970-01-01T00:00:01.565035",
          "1970-01-01T00:00:01.554308",
          "1970-01-01T00:00:01.565035",
          "1970-01-01T00:00:01.603226",
          "1970-01-01T00:00:01.603367",
          "1970-01-01T00:00:01.616443",
          "1970-01-01T00:00:01.648570",
          "1970-01-01T00:00:01.651004",
          "1970-01-01T00:00:01.654732"
         ],
         "y": [
          76.50452029905148,
          76.50452029905148,
          76.50452029905148,
          76.50452029905148,
          76.50452029905148,
          76.50452029905148,
          76.50452029905148,
          76.50452029905148,
          76.50452029905148,
          76.50452029905148,
          76.50452029905148,
          76.50452029905148,
          76.50452029905148,
          76.50452029905148,
          76.50452029905148,
          76.50452029905148,
          76.50452029905148,
          76.50452029905148,
          76.50452029905148,
          76.50452029905148
         ]
        }
       ],
       "layout": {
        "template": {
         "data": {
          "bar": [
           {
            "error_x": {
             "color": "#2a3f5f"
            },
            "error_y": {
             "color": "#2a3f5f"
            },
            "marker": {
             "line": {
              "color": "#E5ECF6",
              "width": 0.5
             },
             "pattern": {
              "fillmode": "overlay",
              "size": 10,
              "solidity": 0.2
             }
            },
            "type": "bar"
           }
          ],
          "barpolar": [
           {
            "marker": {
             "line": {
              "color": "#E5ECF6",
              "width": 0.5
             },
             "pattern": {
              "fillmode": "overlay",
              "size": 10,
              "solidity": 0.2
             }
            },
            "type": "barpolar"
           }
          ],
          "carpet": [
           {
            "aaxis": {
             "endlinecolor": "#2a3f5f",
             "gridcolor": "white",
             "linecolor": "white",
             "minorgridcolor": "white",
             "startlinecolor": "#2a3f5f"
            },
            "baxis": {
             "endlinecolor": "#2a3f5f",
             "gridcolor": "white",
             "linecolor": "white",
             "minorgridcolor": "white",
             "startlinecolor": "#2a3f5f"
            },
            "type": "carpet"
           }
          ],
          "choropleth": [
           {
            "colorbar": {
             "outlinewidth": 0,
             "ticks": ""
            },
            "type": "choropleth"
           }
          ],
          "contour": [
           {
            "colorbar": {
             "outlinewidth": 0,
             "ticks": ""
            },
            "colorscale": [
             [
              0,
              "#0d0887"
             ],
             [
              0.1111111111111111,
              "#46039f"
             ],
             [
              0.2222222222222222,
              "#7201a8"
             ],
             [
              0.3333333333333333,
              "#9c179e"
             ],
             [
              0.4444444444444444,
              "#bd3786"
             ],
             [
              0.5555555555555556,
              "#d8576b"
             ],
             [
              0.6666666666666666,
              "#ed7953"
             ],
             [
              0.7777777777777778,
              "#fb9f3a"
             ],
             [
              0.8888888888888888,
              "#fdca26"
             ],
             [
              1,
              "#f0f921"
             ]
            ],
            "type": "contour"
           }
          ],
          "contourcarpet": [
           {
            "colorbar": {
             "outlinewidth": 0,
             "ticks": ""
            },
            "type": "contourcarpet"
           }
          ],
          "heatmap": [
           {
            "colorbar": {
             "outlinewidth": 0,
             "ticks": ""
            },
            "colorscale": [
             [
              0,
              "#0d0887"
             ],
             [
              0.1111111111111111,
              "#46039f"
             ],
             [
              0.2222222222222222,
              "#7201a8"
             ],
             [
              0.3333333333333333,
              "#9c179e"
             ],
             [
              0.4444444444444444,
              "#bd3786"
             ],
             [
              0.5555555555555556,
              "#d8576b"
             ],
             [
              0.6666666666666666,
              "#ed7953"
             ],
             [
              0.7777777777777778,
              "#fb9f3a"
             ],
             [
              0.8888888888888888,
              "#fdca26"
             ],
             [
              1,
              "#f0f921"
             ]
            ],
            "type": "heatmap"
           }
          ],
          "heatmapgl": [
           {
            "colorbar": {
             "outlinewidth": 0,
             "ticks": ""
            },
            "colorscale": [
             [
              0,
              "#0d0887"
             ],
             [
              0.1111111111111111,
              "#46039f"
             ],
             [
              0.2222222222222222,
              "#7201a8"
             ],
             [
              0.3333333333333333,
              "#9c179e"
             ],
             [
              0.4444444444444444,
              "#bd3786"
             ],
             [
              0.5555555555555556,
              "#d8576b"
             ],
             [
              0.6666666666666666,
              "#ed7953"
             ],
             [
              0.7777777777777778,
              "#fb9f3a"
             ],
             [
              0.8888888888888888,
              "#fdca26"
             ],
             [
              1,
              "#f0f921"
             ]
            ],
            "type": "heatmapgl"
           }
          ],
          "histogram": [
           {
            "marker": {
             "pattern": {
              "fillmode": "overlay",
              "size": 10,
              "solidity": 0.2
             }
            },
            "type": "histogram"
           }
          ],
          "histogram2d": [
           {
            "colorbar": {
             "outlinewidth": 0,
             "ticks": ""
            },
            "colorscale": [
             [
              0,
              "#0d0887"
             ],
             [
              0.1111111111111111,
              "#46039f"
             ],
             [
              0.2222222222222222,
              "#7201a8"
             ],
             [
              0.3333333333333333,
              "#9c179e"
             ],
             [
              0.4444444444444444,
              "#bd3786"
             ],
             [
              0.5555555555555556,
              "#d8576b"
             ],
             [
              0.6666666666666666,
              "#ed7953"
             ],
             [
              0.7777777777777778,
              "#fb9f3a"
             ],
             [
              0.8888888888888888,
              "#fdca26"
             ],
             [
              1,
              "#f0f921"
             ]
            ],
            "type": "histogram2d"
           }
          ],
          "histogram2dcontour": [
           {
            "colorbar": {
             "outlinewidth": 0,
             "ticks": ""
            },
            "colorscale": [
             [
              0,
              "#0d0887"
             ],
             [
              0.1111111111111111,
              "#46039f"
             ],
             [
              0.2222222222222222,
              "#7201a8"
             ],
             [
              0.3333333333333333,
              "#9c179e"
             ],
             [
              0.4444444444444444,
              "#bd3786"
             ],
             [
              0.5555555555555556,
              "#d8576b"
             ],
             [
              0.6666666666666666,
              "#ed7953"
             ],
             [
              0.7777777777777778,
              "#fb9f3a"
             ],
             [
              0.8888888888888888,
              "#fdca26"
             ],
             [
              1,
              "#f0f921"
             ]
            ],
            "type": "histogram2dcontour"
           }
          ],
          "mesh3d": [
           {
            "colorbar": {
             "outlinewidth": 0,
             "ticks": ""
            },
            "type": "mesh3d"
           }
          ],
          "parcoords": [
           {
            "line": {
             "colorbar": {
              "outlinewidth": 0,
              "ticks": ""
             }
            },
            "type": "parcoords"
           }
          ],
          "pie": [
           {
            "automargin": true,
            "type": "pie"
           }
          ],
          "scatter": [
           {
            "fillpattern": {
             "fillmode": "overlay",
             "size": 10,
             "solidity": 0.2
            },
            "type": "scatter"
           }
          ],
          "scatter3d": [
           {
            "line": {
             "colorbar": {
              "outlinewidth": 0,
              "ticks": ""
             }
            },
            "marker": {
             "colorbar": {
              "outlinewidth": 0,
              "ticks": ""
             }
            },
            "type": "scatter3d"
           }
          ],
          "scattercarpet": [
           {
            "marker": {
             "colorbar": {
              "outlinewidth": 0,
              "ticks": ""
             }
            },
            "type": "scattercarpet"
           }
          ],
          "scattergeo": [
           {
            "marker": {
             "colorbar": {
              "outlinewidth": 0,
              "ticks": ""
             }
            },
            "type": "scattergeo"
           }
          ],
          "scattergl": [
           {
            "marker": {
             "colorbar": {
              "outlinewidth": 0,
              "ticks": ""
             }
            },
            "type": "scattergl"
           }
          ],
          "scattermapbox": [
           {
            "marker": {
             "colorbar": {
              "outlinewidth": 0,
              "ticks": ""
             }
            },
            "type": "scattermapbox"
           }
          ],
          "scatterpolar": [
           {
            "marker": {
             "colorbar": {
              "outlinewidth": 0,
              "ticks": ""
             }
            },
            "type": "scatterpolar"
           }
          ],
          "scatterpolargl": [
           {
            "marker": {
             "colorbar": {
              "outlinewidth": 0,
              "ticks": ""
             }
            },
            "type": "scatterpolargl"
           }
          ],
          "scatterternary": [
           {
            "marker": {
             "colorbar": {
              "outlinewidth": 0,
              "ticks": ""
             }
            },
            "type": "scatterternary"
           }
          ],
          "surface": [
           {
            "colorbar": {
             "outlinewidth": 0,
             "ticks": ""
            },
            "colorscale": [
             [
              0,
              "#0d0887"
             ],
             [
              0.1111111111111111,
              "#46039f"
             ],
             [
              0.2222222222222222,
              "#7201a8"
             ],
             [
              0.3333333333333333,
              "#9c179e"
             ],
             [
              0.4444444444444444,
              "#bd3786"
             ],
             [
              0.5555555555555556,
              "#d8576b"
             ],
             [
              0.6666666666666666,
              "#ed7953"
             ],
             [
              0.7777777777777778,
              "#fb9f3a"
             ],
             [
              0.8888888888888888,
              "#fdca26"
             ],
             [
              1,
              "#f0f921"
             ]
            ],
            "type": "surface"
           }
          ],
          "table": [
           {
            "cells": {
             "fill": {
              "color": "#EBF0F8"
             },
             "line": {
              "color": "white"
             }
            },
            "header": {
             "fill": {
              "color": "#C8D4E3"
             },
             "line": {
              "color": "white"
             }
            },
            "type": "table"
           }
          ]
         },
         "layout": {
          "annotationdefaults": {
           "arrowcolor": "#2a3f5f",
           "arrowhead": 0,
           "arrowwidth": 1
          },
          "autotypenumbers": "strict",
          "coloraxis": {
           "colorbar": {
            "outlinewidth": 0,
            "ticks": ""
           }
          },
          "colorscale": {
           "diverging": [
            [
             0,
             "#8e0152"
            ],
            [
             0.1,
             "#c51b7d"
            ],
            [
             0.2,
             "#de77ae"
            ],
            [
             0.3,
             "#f1b6da"
            ],
            [
             0.4,
             "#fde0ef"
            ],
            [
             0.5,
             "#f7f7f7"
            ],
            [
             0.6,
             "#e6f5d0"
            ],
            [
             0.7,
             "#b8e186"
            ],
            [
             0.8,
             "#7fbc41"
            ],
            [
             0.9,
             "#4d9221"
            ],
            [
             1,
             "#276419"
            ]
           ],
           "sequential": [
            [
             0,
             "#0d0887"
            ],
            [
             0.1111111111111111,
             "#46039f"
            ],
            [
             0.2222222222222222,
             "#7201a8"
            ],
            [
             0.3333333333333333,
             "#9c179e"
            ],
            [
             0.4444444444444444,
             "#bd3786"
            ],
            [
             0.5555555555555556,
             "#d8576b"
            ],
            [
             0.6666666666666666,
             "#ed7953"
            ],
            [
             0.7777777777777778,
             "#fb9f3a"
            ],
            [
             0.8888888888888888,
             "#fdca26"
            ],
            [
             1,
             "#f0f921"
            ]
           ],
           "sequentialminus": [
            [
             0,
             "#0d0887"
            ],
            [
             0.1111111111111111,
             "#46039f"
            ],
            [
             0.2222222222222222,
             "#7201a8"
            ],
            [
             0.3333333333333333,
             "#9c179e"
            ],
            [
             0.4444444444444444,
             "#bd3786"
            ],
            [
             0.5555555555555556,
             "#d8576b"
            ],
            [
             0.6666666666666666,
             "#ed7953"
            ],
            [
             0.7777777777777778,
             "#fb9f3a"
            ],
            [
             0.8888888888888888,
             "#fdca26"
            ],
            [
             1,
             "#f0f921"
            ]
           ]
          },
          "colorway": [
           "#636efa",
           "#EF553B",
           "#00cc96",
           "#ab63fa",
           "#FFA15A",
           "#19d3f3",
           "#FF6692",
           "#B6E880",
           "#FF97FF",
           "#FECB52"
          ],
          "font": {
           "color": "#2a3f5f"
          },
          "geo": {
           "bgcolor": "white",
           "lakecolor": "white",
           "landcolor": "#E5ECF6",
           "showlakes": true,
           "showland": true,
           "subunitcolor": "white"
          },
          "hoverlabel": {
           "align": "left"
          },
          "hovermode": "closest",
          "mapbox": {
           "style": "light"
          },
          "paper_bgcolor": "white",
          "plot_bgcolor": "#E5ECF6",
          "polar": {
           "angularaxis": {
            "gridcolor": "white",
            "linecolor": "white",
            "ticks": ""
           },
           "bgcolor": "#E5ECF6",
           "radialaxis": {
            "gridcolor": "white",
            "linecolor": "white",
            "ticks": ""
           }
          },
          "scene": {
           "xaxis": {
            "backgroundcolor": "#E5ECF6",
            "gridcolor": "white",
            "gridwidth": 2,
            "linecolor": "white",
            "showbackground": true,
            "ticks": "",
            "zerolinecolor": "white"
           },
           "yaxis": {
            "backgroundcolor": "#E5ECF6",
            "gridcolor": "white",
            "gridwidth": 2,
            "linecolor": "white",
            "showbackground": true,
            "ticks": "",
            "zerolinecolor": "white"
           },
           "zaxis": {
            "backgroundcolor": "#E5ECF6",
            "gridcolor": "white",
            "gridwidth": 2,
            "linecolor": "white",
            "showbackground": true,
            "ticks": "",
            "zerolinecolor": "white"
           }
          },
          "shapedefaults": {
           "line": {
            "color": "#2a3f5f"
           }
          },
          "ternary": {
           "aaxis": {
            "gridcolor": "white",
            "linecolor": "white",
            "ticks": ""
           },
           "baxis": {
            "gridcolor": "white",
            "linecolor": "white",
            "ticks": ""
           },
           "bgcolor": "#E5ECF6",
           "caxis": {
            "gridcolor": "white",
            "linecolor": "white",
            "ticks": ""
           }
          },
          "title": {
           "x": 0.05
          },
          "xaxis": {
           "automargin": true,
           "gridcolor": "white",
           "linecolor": "white",
           "ticks": "",
           "title": {
            "standoff": 15
           },
           "zerolinecolor": "white",
           "zerolinewidth": 2
          },
          "yaxis": {
           "automargin": true,
           "gridcolor": "white",
           "linecolor": "white",
           "ticks": "",
           "title": {
            "standoff": 15
           },
           "zerolinecolor": "white",
           "zerolinewidth": 2
          }
         }
        },
        "title": {
         "text": "Control Chart - maintainability_issues_medium"
        },
        "xaxis": {
         "title": {
          "text": "Timestamp"
         }
        },
        "yaxis": {
         "title": {
          "text": "maintainability_issues_medium"
         }
        }
       }
      }
     },
     "metadata": {},
     "output_type": "display_data"
    },
    {
     "data": {
      "application/vnd.plotly.v1+json": {
       "config": {
        "plotlyServerURL": "https://plot.ly"
       },
       "data": [
        {
         "mode": "lines+markers",
         "name": "Data Points",
         "type": "scatter",
         "x": [
          "1970-01-01T00:00:01.542074",
          "1970-01-01T00:00:01.544814",
          "1970-01-01T00:00:01.542137",
          "1970-01-01T00:00:01.549388",
          "1970-01-01T00:00:01.547592",
          "1970-01-01T00:00:01.549473",
          "1970-01-01T00:00:01.550164",
          "1970-01-01T00:00:01.550769",
          "1970-01-01T00:00:01.551827",
          "1970-01-01T00:00:01.553266",
          "1970-01-01T00:00:01.553756",
          "1970-01-01T00:00:01.565035",
          "1970-01-01T00:00:01.554308",
          "1970-01-01T00:00:01.565035",
          "1970-01-01T00:00:01.603226",
          "1970-01-01T00:00:01.603367",
          "1970-01-01T00:00:01.616443",
          "1970-01-01T00:00:01.648570",
          "1970-01-01T00:00:01.651004",
          "1970-01-01T00:00:01.654732"
         ],
         "y": [
          1225,
          1225,
          1220,
          1220,
          1220,
          1220,
          1220,
          1220,
          1235,
          1235,
          1235,
          1235,
          1160,
          1160,
          1160,
          1230,
          1230,
          1230,
          1265,
          1265
         ]
        },
        {
         "line": {
          "dash": "dash"
         },
         "mode": "lines",
         "name": "Mean",
         "type": "scatter",
         "x": [
          "1970-01-01T00:00:01.542074",
          "1970-01-01T00:00:01.544814",
          "1970-01-01T00:00:01.542137",
          "1970-01-01T00:00:01.549388",
          "1970-01-01T00:00:01.547592",
          "1970-01-01T00:00:01.549473",
          "1970-01-01T00:00:01.550164",
          "1970-01-01T00:00:01.550769",
          "1970-01-01T00:00:01.551827",
          "1970-01-01T00:00:01.553266",
          "1970-01-01T00:00:01.553756",
          "1970-01-01T00:00:01.565035",
          "1970-01-01T00:00:01.554308",
          "1970-01-01T00:00:01.565035",
          "1970-01-01T00:00:01.603226",
          "1970-01-01T00:00:01.603367",
          "1970-01-01T00:00:01.616443",
          "1970-01-01T00:00:01.648570",
          "1970-01-01T00:00:01.651004",
          "1970-01-01T00:00:01.654732"
         ],
         "y": [
          1220.5,
          1220.5,
          1220.5,
          1220.5,
          1220.5,
          1220.5,
          1220.5,
          1220.5,
          1220.5,
          1220.5,
          1220.5,
          1220.5,
          1220.5,
          1220.5,
          1220.5,
          1220.5,
          1220.5,
          1220.5,
          1220.5,
          1220.5
         ]
        },
        {
         "line": {
          "dash": "dash"
         },
         "mode": "lines",
         "name": "Upper Control Limit",
         "type": "scatter",
         "x": [
          "1970-01-01T00:00:01.542074",
          "1970-01-01T00:00:01.544814",
          "1970-01-01T00:00:01.542137",
          "1970-01-01T00:00:01.549388",
          "1970-01-01T00:00:01.547592",
          "1970-01-01T00:00:01.549473",
          "1970-01-01T00:00:01.550164",
          "1970-01-01T00:00:01.550769",
          "1970-01-01T00:00:01.551827",
          "1970-01-01T00:00:01.553266",
          "1970-01-01T00:00:01.553756",
          "1970-01-01T00:00:01.565035",
          "1970-01-01T00:00:01.554308",
          "1970-01-01T00:00:01.565035",
          "1970-01-01T00:00:01.603226",
          "1970-01-01T00:00:01.603367",
          "1970-01-01T00:00:01.616443",
          "1970-01-01T00:00:01.648570",
          "1970-01-01T00:00:01.651004",
          "1970-01-01T00:00:01.654732"
         ],
         "y": [
          1307.815218423944,
          1307.815218423944,
          1307.815218423944,
          1307.815218423944,
          1307.815218423944,
          1307.815218423944,
          1307.815218423944,
          1307.815218423944,
          1307.815218423944,
          1307.815218423944,
          1307.815218423944,
          1307.815218423944,
          1307.815218423944,
          1307.815218423944,
          1307.815218423944,
          1307.815218423944,
          1307.815218423944,
          1307.815218423944,
          1307.815218423944,
          1307.815218423944
         ]
        },
        {
         "line": {
          "dash": "dash"
         },
         "mode": "lines",
         "name": "Lower Control Limit",
         "type": "scatter",
         "x": [
          "1970-01-01T00:00:01.542074",
          "1970-01-01T00:00:01.544814",
          "1970-01-01T00:00:01.542137",
          "1970-01-01T00:00:01.549388",
          "1970-01-01T00:00:01.547592",
          "1970-01-01T00:00:01.549473",
          "1970-01-01T00:00:01.550164",
          "1970-01-01T00:00:01.550769",
          "1970-01-01T00:00:01.551827",
          "1970-01-01T00:00:01.553266",
          "1970-01-01T00:00:01.553756",
          "1970-01-01T00:00:01.565035",
          "1970-01-01T00:00:01.554308",
          "1970-01-01T00:00:01.565035",
          "1970-01-01T00:00:01.603226",
          "1970-01-01T00:00:01.603367",
          "1970-01-01T00:00:01.616443",
          "1970-01-01T00:00:01.648570",
          "1970-01-01T00:00:01.651004",
          "1970-01-01T00:00:01.654732"
         ],
         "y": [
          1133.184781576056,
          1133.184781576056,
          1133.184781576056,
          1133.184781576056,
          1133.184781576056,
          1133.184781576056,
          1133.184781576056,
          1133.184781576056,
          1133.184781576056,
          1133.184781576056,
          1133.184781576056,
          1133.184781576056,
          1133.184781576056,
          1133.184781576056,
          1133.184781576056,
          1133.184781576056,
          1133.184781576056,
          1133.184781576056,
          1133.184781576056,
          1133.184781576056
         ]
        }
       ],
       "layout": {
        "template": {
         "data": {
          "bar": [
           {
            "error_x": {
             "color": "#2a3f5f"
            },
            "error_y": {
             "color": "#2a3f5f"
            },
            "marker": {
             "line": {
              "color": "#E5ECF6",
              "width": 0.5
             },
             "pattern": {
              "fillmode": "overlay",
              "size": 10,
              "solidity": 0.2
             }
            },
            "type": "bar"
           }
          ],
          "barpolar": [
           {
            "marker": {
             "line": {
              "color": "#E5ECF6",
              "width": 0.5
             },
             "pattern": {
              "fillmode": "overlay",
              "size": 10,
              "solidity": 0.2
             }
            },
            "type": "barpolar"
           }
          ],
          "carpet": [
           {
            "aaxis": {
             "endlinecolor": "#2a3f5f",
             "gridcolor": "white",
             "linecolor": "white",
             "minorgridcolor": "white",
             "startlinecolor": "#2a3f5f"
            },
            "baxis": {
             "endlinecolor": "#2a3f5f",
             "gridcolor": "white",
             "linecolor": "white",
             "minorgridcolor": "white",
             "startlinecolor": "#2a3f5f"
            },
            "type": "carpet"
           }
          ],
          "choropleth": [
           {
            "colorbar": {
             "outlinewidth": 0,
             "ticks": ""
            },
            "type": "choropleth"
           }
          ],
          "contour": [
           {
            "colorbar": {
             "outlinewidth": 0,
             "ticks": ""
            },
            "colorscale": [
             [
              0,
              "#0d0887"
             ],
             [
              0.1111111111111111,
              "#46039f"
             ],
             [
              0.2222222222222222,
              "#7201a8"
             ],
             [
              0.3333333333333333,
              "#9c179e"
             ],
             [
              0.4444444444444444,
              "#bd3786"
             ],
             [
              0.5555555555555556,
              "#d8576b"
             ],
             [
              0.6666666666666666,
              "#ed7953"
             ],
             [
              0.7777777777777778,
              "#fb9f3a"
             ],
             [
              0.8888888888888888,
              "#fdca26"
             ],
             [
              1,
              "#f0f921"
             ]
            ],
            "type": "contour"
           }
          ],
          "contourcarpet": [
           {
            "colorbar": {
             "outlinewidth": 0,
             "ticks": ""
            },
            "type": "contourcarpet"
           }
          ],
          "heatmap": [
           {
            "colorbar": {
             "outlinewidth": 0,
             "ticks": ""
            },
            "colorscale": [
             [
              0,
              "#0d0887"
             ],
             [
              0.1111111111111111,
              "#46039f"
             ],
             [
              0.2222222222222222,
              "#7201a8"
             ],
             [
              0.3333333333333333,
              "#9c179e"
             ],
             [
              0.4444444444444444,
              "#bd3786"
             ],
             [
              0.5555555555555556,
              "#d8576b"
             ],
             [
              0.6666666666666666,
              "#ed7953"
             ],
             [
              0.7777777777777778,
              "#fb9f3a"
             ],
             [
              0.8888888888888888,
              "#fdca26"
             ],
             [
              1,
              "#f0f921"
             ]
            ],
            "type": "heatmap"
           }
          ],
          "heatmapgl": [
           {
            "colorbar": {
             "outlinewidth": 0,
             "ticks": ""
            },
            "colorscale": [
             [
              0,
              "#0d0887"
             ],
             [
              0.1111111111111111,
              "#46039f"
             ],
             [
              0.2222222222222222,
              "#7201a8"
             ],
             [
              0.3333333333333333,
              "#9c179e"
             ],
             [
              0.4444444444444444,
              "#bd3786"
             ],
             [
              0.5555555555555556,
              "#d8576b"
             ],
             [
              0.6666666666666666,
              "#ed7953"
             ],
             [
              0.7777777777777778,
              "#fb9f3a"
             ],
             [
              0.8888888888888888,
              "#fdca26"
             ],
             [
              1,
              "#f0f921"
             ]
            ],
            "type": "heatmapgl"
           }
          ],
          "histogram": [
           {
            "marker": {
             "pattern": {
              "fillmode": "overlay",
              "size": 10,
              "solidity": 0.2
             }
            },
            "type": "histogram"
           }
          ],
          "histogram2d": [
           {
            "colorbar": {
             "outlinewidth": 0,
             "ticks": ""
            },
            "colorscale": [
             [
              0,
              "#0d0887"
             ],
             [
              0.1111111111111111,
              "#46039f"
             ],
             [
              0.2222222222222222,
              "#7201a8"
             ],
             [
              0.3333333333333333,
              "#9c179e"
             ],
             [
              0.4444444444444444,
              "#bd3786"
             ],
             [
              0.5555555555555556,
              "#d8576b"
             ],
             [
              0.6666666666666666,
              "#ed7953"
             ],
             [
              0.7777777777777778,
              "#fb9f3a"
             ],
             [
              0.8888888888888888,
              "#fdca26"
             ],
             [
              1,
              "#f0f921"
             ]
            ],
            "type": "histogram2d"
           }
          ],
          "histogram2dcontour": [
           {
            "colorbar": {
             "outlinewidth": 0,
             "ticks": ""
            },
            "colorscale": [
             [
              0,
              "#0d0887"
             ],
             [
              0.1111111111111111,
              "#46039f"
             ],
             [
              0.2222222222222222,
              "#7201a8"
             ],
             [
              0.3333333333333333,
              "#9c179e"
             ],
             [
              0.4444444444444444,
              "#bd3786"
             ],
             [
              0.5555555555555556,
              "#d8576b"
             ],
             [
              0.6666666666666666,
              "#ed7953"
             ],
             [
              0.7777777777777778,
              "#fb9f3a"
             ],
             [
              0.8888888888888888,
              "#fdca26"
             ],
             [
              1,
              "#f0f921"
             ]
            ],
            "type": "histogram2dcontour"
           }
          ],
          "mesh3d": [
           {
            "colorbar": {
             "outlinewidth": 0,
             "ticks": ""
            },
            "type": "mesh3d"
           }
          ],
          "parcoords": [
           {
            "line": {
             "colorbar": {
              "outlinewidth": 0,
              "ticks": ""
             }
            },
            "type": "parcoords"
           }
          ],
          "pie": [
           {
            "automargin": true,
            "type": "pie"
           }
          ],
          "scatter": [
           {
            "fillpattern": {
             "fillmode": "overlay",
             "size": 10,
             "solidity": 0.2
            },
            "type": "scatter"
           }
          ],
          "scatter3d": [
           {
            "line": {
             "colorbar": {
              "outlinewidth": 0,
              "ticks": ""
             }
            },
            "marker": {
             "colorbar": {
              "outlinewidth": 0,
              "ticks": ""
             }
            },
            "type": "scatter3d"
           }
          ],
          "scattercarpet": [
           {
            "marker": {
             "colorbar": {
              "outlinewidth": 0,
              "ticks": ""
             }
            },
            "type": "scattercarpet"
           }
          ],
          "scattergeo": [
           {
            "marker": {
             "colorbar": {
              "outlinewidth": 0,
              "ticks": ""
             }
            },
            "type": "scattergeo"
           }
          ],
          "scattergl": [
           {
            "marker": {
             "colorbar": {
              "outlinewidth": 0,
              "ticks": ""
             }
            },
            "type": "scattergl"
           }
          ],
          "scattermapbox": [
           {
            "marker": {
             "colorbar": {
              "outlinewidth": 0,
              "ticks": ""
             }
            },
            "type": "scattermapbox"
           }
          ],
          "scatterpolar": [
           {
            "marker": {
             "colorbar": {
              "outlinewidth": 0,
              "ticks": ""
             }
            },
            "type": "scatterpolar"
           }
          ],
          "scatterpolargl": [
           {
            "marker": {
             "colorbar": {
              "outlinewidth": 0,
              "ticks": ""
             }
            },
            "type": "scatterpolargl"
           }
          ],
          "scatterternary": [
           {
            "marker": {
             "colorbar": {
              "outlinewidth": 0,
              "ticks": ""
             }
            },
            "type": "scatterternary"
           }
          ],
          "surface": [
           {
            "colorbar": {
             "outlinewidth": 0,
             "ticks": ""
            },
            "colorscale": [
             [
              0,
              "#0d0887"
             ],
             [
              0.1111111111111111,
              "#46039f"
             ],
             [
              0.2222222222222222,
              "#7201a8"
             ],
             [
              0.3333333333333333,
              "#9c179e"
             ],
             [
              0.4444444444444444,
              "#bd3786"
             ],
             [
              0.5555555555555556,
              "#d8576b"
             ],
             [
              0.6666666666666666,
              "#ed7953"
             ],
             [
              0.7777777777777778,
              "#fb9f3a"
             ],
             [
              0.8888888888888888,
              "#fdca26"
             ],
             [
              1,
              "#f0f921"
             ]
            ],
            "type": "surface"
           }
          ],
          "table": [
           {
            "cells": {
             "fill": {
              "color": "#EBF0F8"
             },
             "line": {
              "color": "white"
             }
            },
            "header": {
             "fill": {
              "color": "#C8D4E3"
             },
             "line": {
              "color": "white"
             }
            },
            "type": "table"
           }
          ]
         },
         "layout": {
          "annotationdefaults": {
           "arrowcolor": "#2a3f5f",
           "arrowhead": 0,
           "arrowwidth": 1
          },
          "autotypenumbers": "strict",
          "coloraxis": {
           "colorbar": {
            "outlinewidth": 0,
            "ticks": ""
           }
          },
          "colorscale": {
           "diverging": [
            [
             0,
             "#8e0152"
            ],
            [
             0.1,
             "#c51b7d"
            ],
            [
             0.2,
             "#de77ae"
            ],
            [
             0.3,
             "#f1b6da"
            ],
            [
             0.4,
             "#fde0ef"
            ],
            [
             0.5,
             "#f7f7f7"
            ],
            [
             0.6,
             "#e6f5d0"
            ],
            [
             0.7,
             "#b8e186"
            ],
            [
             0.8,
             "#7fbc41"
            ],
            [
             0.9,
             "#4d9221"
            ],
            [
             1,
             "#276419"
            ]
           ],
           "sequential": [
            [
             0,
             "#0d0887"
            ],
            [
             0.1111111111111111,
             "#46039f"
            ],
            [
             0.2222222222222222,
             "#7201a8"
            ],
            [
             0.3333333333333333,
             "#9c179e"
            ],
            [
             0.4444444444444444,
             "#bd3786"
            ],
            [
             0.5555555555555556,
             "#d8576b"
            ],
            [
             0.6666666666666666,
             "#ed7953"
            ],
            [
             0.7777777777777778,
             "#fb9f3a"
            ],
            [
             0.8888888888888888,
             "#fdca26"
            ],
            [
             1,
             "#f0f921"
            ]
           ],
           "sequentialminus": [
            [
             0,
             "#0d0887"
            ],
            [
             0.1111111111111111,
             "#46039f"
            ],
            [
             0.2222222222222222,
             "#7201a8"
            ],
            [
             0.3333333333333333,
             "#9c179e"
            ],
            [
             0.4444444444444444,
             "#bd3786"
            ],
            [
             0.5555555555555556,
             "#d8576b"
            ],
            [
             0.6666666666666666,
             "#ed7953"
            ],
            [
             0.7777777777777778,
             "#fb9f3a"
            ],
            [
             0.8888888888888888,
             "#fdca26"
            ],
            [
             1,
             "#f0f921"
            ]
           ]
          },
          "colorway": [
           "#636efa",
           "#EF553B",
           "#00cc96",
           "#ab63fa",
           "#FFA15A",
           "#19d3f3",
           "#FF6692",
           "#B6E880",
           "#FF97FF",
           "#FECB52"
          ],
          "font": {
           "color": "#2a3f5f"
          },
          "geo": {
           "bgcolor": "white",
           "lakecolor": "white",
           "landcolor": "#E5ECF6",
           "showlakes": true,
           "showland": true,
           "subunitcolor": "white"
          },
          "hoverlabel": {
           "align": "left"
          },
          "hovermode": "closest",
          "mapbox": {
           "style": "light"
          },
          "paper_bgcolor": "white",
          "plot_bgcolor": "#E5ECF6",
          "polar": {
           "angularaxis": {
            "gridcolor": "white",
            "linecolor": "white",
            "ticks": ""
           },
           "bgcolor": "#E5ECF6",
           "radialaxis": {
            "gridcolor": "white",
            "linecolor": "white",
            "ticks": ""
           }
          },
          "scene": {
           "xaxis": {
            "backgroundcolor": "#E5ECF6",
            "gridcolor": "white",
            "gridwidth": 2,
            "linecolor": "white",
            "showbackground": true,
            "ticks": "",
            "zerolinecolor": "white"
           },
           "yaxis": {
            "backgroundcolor": "#E5ECF6",
            "gridcolor": "white",
            "gridwidth": 2,
            "linecolor": "white",
            "showbackground": true,
            "ticks": "",
            "zerolinecolor": "white"
           },
           "zaxis": {
            "backgroundcolor": "#E5ECF6",
            "gridcolor": "white",
            "gridwidth": 2,
            "linecolor": "white",
            "showbackground": true,
            "ticks": "",
            "zerolinecolor": "white"
           }
          },
          "shapedefaults": {
           "line": {
            "color": "#2a3f5f"
           }
          },
          "ternary": {
           "aaxis": {
            "gridcolor": "white",
            "linecolor": "white",
            "ticks": ""
           },
           "baxis": {
            "gridcolor": "white",
            "linecolor": "white",
            "ticks": ""
           },
           "bgcolor": "#E5ECF6",
           "caxis": {
            "gridcolor": "white",
            "linecolor": "white",
            "ticks": ""
           }
          },
          "title": {
           "x": 0.05
          },
          "xaxis": {
           "automargin": true,
           "gridcolor": "white",
           "linecolor": "white",
           "ticks": "",
           "title": {
            "standoff": 15
           },
           "zerolinecolor": "white",
           "zerolinewidth": 2
          },
          "yaxis": {
           "automargin": true,
           "gridcolor": "white",
           "linecolor": "white",
           "ticks": "",
           "title": {
            "standoff": 15
           },
           "zerolinecolor": "white",
           "zerolinewidth": 2
          }
         }
        },
        "title": {
         "text": "Control Chart - total_debt_medium"
        },
        "xaxis": {
         "title": {
          "text": "Timestamp"
         }
        },
        "yaxis": {
         "title": {
          "text": "total_debt_medium"
         }
        }
       }
      }
     },
     "metadata": {},
     "output_type": "display_data"
    },
    {
     "data": {
      "application/vnd.plotly.v1+json": {
       "config": {
        "plotlyServerURL": "https://plot.ly"
       },
       "data": [
        {
         "mode": "lines+markers",
         "name": "Data Points",
         "type": "scatter",
         "x": [
          "1970-01-01T00:00:01.542074",
          "1970-01-01T00:00:01.544814",
          "1970-01-01T00:00:01.542137",
          "1970-01-01T00:00:01.549388",
          "1970-01-01T00:00:01.547592",
          "1970-01-01T00:00:01.549473",
          "1970-01-01T00:00:01.550164",
          "1970-01-01T00:00:01.550769",
          "1970-01-01T00:00:01.551827",
          "1970-01-01T00:00:01.553266",
          "1970-01-01T00:00:01.553756",
          "1970-01-01T00:00:01.565035",
          "1970-01-01T00:00:01.554308",
          "1970-01-01T00:00:01.565035",
          "1970-01-01T00:00:01.603226",
          "1970-01-01T00:00:01.603367",
          "1970-01-01T00:00:01.616443",
          "1970-01-01T00:00:01.648570",
          "1970-01-01T00:00:01.651004",
          "1970-01-01T00:00:01.654732"
         ],
         "y": [
          18,
          18,
          18,
          18,
          18,
          18,
          18,
          18,
          17,
          17,
          17,
          17,
          22,
          22,
          22,
          18,
          18,
          18,
          16,
          16
         ]
        },
        {
         "line": {
          "dash": "dash"
         },
         "mode": "lines",
         "name": "Mean",
         "type": "scatter",
         "x": [
          "1970-01-01T00:00:01.542074",
          "1970-01-01T00:00:01.544814",
          "1970-01-01T00:00:01.542137",
          "1970-01-01T00:00:01.549388",
          "1970-01-01T00:00:01.547592",
          "1970-01-01T00:00:01.549473",
          "1970-01-01T00:00:01.550164",
          "1970-01-01T00:00:01.550769",
          "1970-01-01T00:00:01.551827",
          "1970-01-01T00:00:01.553266",
          "1970-01-01T00:00:01.553756",
          "1970-01-01T00:00:01.565035",
          "1970-01-01T00:00:01.554308",
          "1970-01-01T00:00:01.565035",
          "1970-01-01T00:00:01.603226",
          "1970-01-01T00:00:01.603367",
          "1970-01-01T00:00:01.616443",
          "1970-01-01T00:00:01.648570",
          "1970-01-01T00:00:01.651004",
          "1970-01-01T00:00:01.654732"
         ],
         "y": [
          18.2,
          18.2,
          18.2,
          18.2,
          18.2,
          18.2,
          18.2,
          18.2,
          18.2,
          18.2,
          18.2,
          18.2,
          18.2,
          18.2,
          18.2,
          18.2,
          18.2,
          18.2,
          18.2,
          18.2
         ]
        },
        {
         "line": {
          "dash": "dash"
         },
         "mode": "lines",
         "name": "Upper Control Limit",
         "type": "scatter",
         "x": [
          "1970-01-01T00:00:01.542074",
          "1970-01-01T00:00:01.544814",
          "1970-01-01T00:00:01.542137",
          "1970-01-01T00:00:01.549388",
          "1970-01-01T00:00:01.547592",
          "1970-01-01T00:00:01.549473",
          "1970-01-01T00:00:01.550164",
          "1970-01-01T00:00:01.550769",
          "1970-01-01T00:00:01.551827",
          "1970-01-01T00:00:01.553266",
          "1970-01-01T00:00:01.553756",
          "1970-01-01T00:00:01.565035",
          "1970-01-01T00:00:01.554308",
          "1970-01-01T00:00:01.565035",
          "1970-01-01T00:00:01.603226",
          "1970-01-01T00:00:01.603367",
          "1970-01-01T00:00:01.616443",
          "1970-01-01T00:00:01.648570",
          "1970-01-01T00:00:01.651004",
          "1970-01-01T00:00:01.654732"
         ],
         "y": [
          23.495479700948525,
          23.495479700948525,
          23.495479700948525,
          23.495479700948525,
          23.495479700948525,
          23.495479700948525,
          23.495479700948525,
          23.495479700948525,
          23.495479700948525,
          23.495479700948525,
          23.495479700948525,
          23.495479700948525,
          23.495479700948525,
          23.495479700948525,
          23.495479700948525,
          23.495479700948525,
          23.495479700948525,
          23.495479700948525,
          23.495479700948525,
          23.495479700948525
         ]
        },
        {
         "line": {
          "dash": "dash"
         },
         "mode": "lines",
         "name": "Lower Control Limit",
         "type": "scatter",
         "x": [
          "1970-01-01T00:00:01.542074",
          "1970-01-01T00:00:01.544814",
          "1970-01-01T00:00:01.542137",
          "1970-01-01T00:00:01.549388",
          "1970-01-01T00:00:01.547592",
          "1970-01-01T00:00:01.549473",
          "1970-01-01T00:00:01.550164",
          "1970-01-01T00:00:01.550769",
          "1970-01-01T00:00:01.551827",
          "1970-01-01T00:00:01.553266",
          "1970-01-01T00:00:01.553756",
          "1970-01-01T00:00:01.565035",
          "1970-01-01T00:00:01.554308",
          "1970-01-01T00:00:01.565035",
          "1970-01-01T00:00:01.603226",
          "1970-01-01T00:00:01.603367",
          "1970-01-01T00:00:01.616443",
          "1970-01-01T00:00:01.648570",
          "1970-01-01T00:00:01.651004",
          "1970-01-01T00:00:01.654732"
         ],
         "y": [
          12.904520299051473,
          12.904520299051473,
          12.904520299051473,
          12.904520299051473,
          12.904520299051473,
          12.904520299051473,
          12.904520299051473,
          12.904520299051473,
          12.904520299051473,
          12.904520299051473,
          12.904520299051473,
          12.904520299051473,
          12.904520299051473,
          12.904520299051473,
          12.904520299051473,
          12.904520299051473,
          12.904520299051473,
          12.904520299051473,
          12.904520299051473,
          12.904520299051473
         ]
        }
       ],
       "layout": {
        "template": {
         "data": {
          "bar": [
           {
            "error_x": {
             "color": "#2a3f5f"
            },
            "error_y": {
             "color": "#2a3f5f"
            },
            "marker": {
             "line": {
              "color": "#E5ECF6",
              "width": 0.5
             },
             "pattern": {
              "fillmode": "overlay",
              "size": 10,
              "solidity": 0.2
             }
            },
            "type": "bar"
           }
          ],
          "barpolar": [
           {
            "marker": {
             "line": {
              "color": "#E5ECF6",
              "width": 0.5
             },
             "pattern": {
              "fillmode": "overlay",
              "size": 10,
              "solidity": 0.2
             }
            },
            "type": "barpolar"
           }
          ],
          "carpet": [
           {
            "aaxis": {
             "endlinecolor": "#2a3f5f",
             "gridcolor": "white",
             "linecolor": "white",
             "minorgridcolor": "white",
             "startlinecolor": "#2a3f5f"
            },
            "baxis": {
             "endlinecolor": "#2a3f5f",
             "gridcolor": "white",
             "linecolor": "white",
             "minorgridcolor": "white",
             "startlinecolor": "#2a3f5f"
            },
            "type": "carpet"
           }
          ],
          "choropleth": [
           {
            "colorbar": {
             "outlinewidth": 0,
             "ticks": ""
            },
            "type": "choropleth"
           }
          ],
          "contour": [
           {
            "colorbar": {
             "outlinewidth": 0,
             "ticks": ""
            },
            "colorscale": [
             [
              0,
              "#0d0887"
             ],
             [
              0.1111111111111111,
              "#46039f"
             ],
             [
              0.2222222222222222,
              "#7201a8"
             ],
             [
              0.3333333333333333,
              "#9c179e"
             ],
             [
              0.4444444444444444,
              "#bd3786"
             ],
             [
              0.5555555555555556,
              "#d8576b"
             ],
             [
              0.6666666666666666,
              "#ed7953"
             ],
             [
              0.7777777777777778,
              "#fb9f3a"
             ],
             [
              0.8888888888888888,
              "#fdca26"
             ],
             [
              1,
              "#f0f921"
             ]
            ],
            "type": "contour"
           }
          ],
          "contourcarpet": [
           {
            "colorbar": {
             "outlinewidth": 0,
             "ticks": ""
            },
            "type": "contourcarpet"
           }
          ],
          "heatmap": [
           {
            "colorbar": {
             "outlinewidth": 0,
             "ticks": ""
            },
            "colorscale": [
             [
              0,
              "#0d0887"
             ],
             [
              0.1111111111111111,
              "#46039f"
             ],
             [
              0.2222222222222222,
              "#7201a8"
             ],
             [
              0.3333333333333333,
              "#9c179e"
             ],
             [
              0.4444444444444444,
              "#bd3786"
             ],
             [
              0.5555555555555556,
              "#d8576b"
             ],
             [
              0.6666666666666666,
              "#ed7953"
             ],
             [
              0.7777777777777778,
              "#fb9f3a"
             ],
             [
              0.8888888888888888,
              "#fdca26"
             ],
             [
              1,
              "#f0f921"
             ]
            ],
            "type": "heatmap"
           }
          ],
          "heatmapgl": [
           {
            "colorbar": {
             "outlinewidth": 0,
             "ticks": ""
            },
            "colorscale": [
             [
              0,
              "#0d0887"
             ],
             [
              0.1111111111111111,
              "#46039f"
             ],
             [
              0.2222222222222222,
              "#7201a8"
             ],
             [
              0.3333333333333333,
              "#9c179e"
             ],
             [
              0.4444444444444444,
              "#bd3786"
             ],
             [
              0.5555555555555556,
              "#d8576b"
             ],
             [
              0.6666666666666666,
              "#ed7953"
             ],
             [
              0.7777777777777778,
              "#fb9f3a"
             ],
             [
              0.8888888888888888,
              "#fdca26"
             ],
             [
              1,
              "#f0f921"
             ]
            ],
            "type": "heatmapgl"
           }
          ],
          "histogram": [
           {
            "marker": {
             "pattern": {
              "fillmode": "overlay",
              "size": 10,
              "solidity": 0.2
             }
            },
            "type": "histogram"
           }
          ],
          "histogram2d": [
           {
            "colorbar": {
             "outlinewidth": 0,
             "ticks": ""
            },
            "colorscale": [
             [
              0,
              "#0d0887"
             ],
             [
              0.1111111111111111,
              "#46039f"
             ],
             [
              0.2222222222222222,
              "#7201a8"
             ],
             [
              0.3333333333333333,
              "#9c179e"
             ],
             [
              0.4444444444444444,
              "#bd3786"
             ],
             [
              0.5555555555555556,
              "#d8576b"
             ],
             [
              0.6666666666666666,
              "#ed7953"
             ],
             [
              0.7777777777777778,
              "#fb9f3a"
             ],
             [
              0.8888888888888888,
              "#fdca26"
             ],
             [
              1,
              "#f0f921"
             ]
            ],
            "type": "histogram2d"
           }
          ],
          "histogram2dcontour": [
           {
            "colorbar": {
             "outlinewidth": 0,
             "ticks": ""
            },
            "colorscale": [
             [
              0,
              "#0d0887"
             ],
             [
              0.1111111111111111,
              "#46039f"
             ],
             [
              0.2222222222222222,
              "#7201a8"
             ],
             [
              0.3333333333333333,
              "#9c179e"
             ],
             [
              0.4444444444444444,
              "#bd3786"
             ],
             [
              0.5555555555555556,
              "#d8576b"
             ],
             [
              0.6666666666666666,
              "#ed7953"
             ],
             [
              0.7777777777777778,
              "#fb9f3a"
             ],
             [
              0.8888888888888888,
              "#fdca26"
             ],
             [
              1,
              "#f0f921"
             ]
            ],
            "type": "histogram2dcontour"
           }
          ],
          "mesh3d": [
           {
            "colorbar": {
             "outlinewidth": 0,
             "ticks": ""
            },
            "type": "mesh3d"
           }
          ],
          "parcoords": [
           {
            "line": {
             "colorbar": {
              "outlinewidth": 0,
              "ticks": ""
             }
            },
            "type": "parcoords"
           }
          ],
          "pie": [
           {
            "automargin": true,
            "type": "pie"
           }
          ],
          "scatter": [
           {
            "fillpattern": {
             "fillmode": "overlay",
             "size": 10,
             "solidity": 0.2
            },
            "type": "scatter"
           }
          ],
          "scatter3d": [
           {
            "line": {
             "colorbar": {
              "outlinewidth": 0,
              "ticks": ""
             }
            },
            "marker": {
             "colorbar": {
              "outlinewidth": 0,
              "ticks": ""
             }
            },
            "type": "scatter3d"
           }
          ],
          "scattercarpet": [
           {
            "marker": {
             "colorbar": {
              "outlinewidth": 0,
              "ticks": ""
             }
            },
            "type": "scattercarpet"
           }
          ],
          "scattergeo": [
           {
            "marker": {
             "colorbar": {
              "outlinewidth": 0,
              "ticks": ""
             }
            },
            "type": "scattergeo"
           }
          ],
          "scattergl": [
           {
            "marker": {
             "colorbar": {
              "outlinewidth": 0,
              "ticks": ""
             }
            },
            "type": "scattergl"
           }
          ],
          "scattermapbox": [
           {
            "marker": {
             "colorbar": {
              "outlinewidth": 0,
              "ticks": ""
             }
            },
            "type": "scattermapbox"
           }
          ],
          "scatterpolar": [
           {
            "marker": {
             "colorbar": {
              "outlinewidth": 0,
              "ticks": ""
             }
            },
            "type": "scatterpolar"
           }
          ],
          "scatterpolargl": [
           {
            "marker": {
             "colorbar": {
              "outlinewidth": 0,
              "ticks": ""
             }
            },
            "type": "scatterpolargl"
           }
          ],
          "scatterternary": [
           {
            "marker": {
             "colorbar": {
              "outlinewidth": 0,
              "ticks": ""
             }
            },
            "type": "scatterternary"
           }
          ],
          "surface": [
           {
            "colorbar": {
             "outlinewidth": 0,
             "ticks": ""
            },
            "colorscale": [
             [
              0,
              "#0d0887"
             ],
             [
              0.1111111111111111,
              "#46039f"
             ],
             [
              0.2222222222222222,
              "#7201a8"
             ],
             [
              0.3333333333333333,
              "#9c179e"
             ],
             [
              0.4444444444444444,
              "#bd3786"
             ],
             [
              0.5555555555555556,
              "#d8576b"
             ],
             [
              0.6666666666666666,
              "#ed7953"
             ],
             [
              0.7777777777777778,
              "#fb9f3a"
             ],
             [
              0.8888888888888888,
              "#fdca26"
             ],
             [
              1,
              "#f0f921"
             ]
            ],
            "type": "surface"
           }
          ],
          "table": [
           {
            "cells": {
             "fill": {
              "color": "#EBF0F8"
             },
             "line": {
              "color": "white"
             }
            },
            "header": {
             "fill": {
              "color": "#C8D4E3"
             },
             "line": {
              "color": "white"
             }
            },
            "type": "table"
           }
          ]
         },
         "layout": {
          "annotationdefaults": {
           "arrowcolor": "#2a3f5f",
           "arrowhead": 0,
           "arrowwidth": 1
          },
          "autotypenumbers": "strict",
          "coloraxis": {
           "colorbar": {
            "outlinewidth": 0,
            "ticks": ""
           }
          },
          "colorscale": {
           "diverging": [
            [
             0,
             "#8e0152"
            ],
            [
             0.1,
             "#c51b7d"
            ],
            [
             0.2,
             "#de77ae"
            ],
            [
             0.3,
             "#f1b6da"
            ],
            [
             0.4,
             "#fde0ef"
            ],
            [
             0.5,
             "#f7f7f7"
            ],
            [
             0.6,
             "#e6f5d0"
            ],
            [
             0.7,
             "#b8e186"
            ],
            [
             0.8,
             "#7fbc41"
            ],
            [
             0.9,
             "#4d9221"
            ],
            [
             1,
             "#276419"
            ]
           ],
           "sequential": [
            [
             0,
             "#0d0887"
            ],
            [
             0.1111111111111111,
             "#46039f"
            ],
            [
             0.2222222222222222,
             "#7201a8"
            ],
            [
             0.3333333333333333,
             "#9c179e"
            ],
            [
             0.4444444444444444,
             "#bd3786"
            ],
            [
             0.5555555555555556,
             "#d8576b"
            ],
            [
             0.6666666666666666,
             "#ed7953"
            ],
            [
             0.7777777777777778,
             "#fb9f3a"
            ],
            [
             0.8888888888888888,
             "#fdca26"
            ],
            [
             1,
             "#f0f921"
            ]
           ],
           "sequentialminus": [
            [
             0,
             "#0d0887"
            ],
            [
             0.1111111111111111,
             "#46039f"
            ],
            [
             0.2222222222222222,
             "#7201a8"
            ],
            [
             0.3333333333333333,
             "#9c179e"
            ],
            [
             0.4444444444444444,
             "#bd3786"
            ],
            [
             0.5555555555555556,
             "#d8576b"
            ],
            [
             0.6666666666666666,
             "#ed7953"
            ],
            [
             0.7777777777777778,
             "#fb9f3a"
            ],
            [
             0.8888888888888888,
             "#fdca26"
            ],
            [
             1,
             "#f0f921"
            ]
           ]
          },
          "colorway": [
           "#636efa",
           "#EF553B",
           "#00cc96",
           "#ab63fa",
           "#FFA15A",
           "#19d3f3",
           "#FF6692",
           "#B6E880",
           "#FF97FF",
           "#FECB52"
          ],
          "font": {
           "color": "#2a3f5f"
          },
          "geo": {
           "bgcolor": "white",
           "lakecolor": "white",
           "landcolor": "#E5ECF6",
           "showlakes": true,
           "showland": true,
           "subunitcolor": "white"
          },
          "hoverlabel": {
           "align": "left"
          },
          "hovermode": "closest",
          "mapbox": {
           "style": "light"
          },
          "paper_bgcolor": "white",
          "plot_bgcolor": "#E5ECF6",
          "polar": {
           "angularaxis": {
            "gridcolor": "white",
            "linecolor": "white",
            "ticks": ""
           },
           "bgcolor": "#E5ECF6",
           "radialaxis": {
            "gridcolor": "white",
            "linecolor": "white",
            "ticks": ""
           }
          },
          "scene": {
           "xaxis": {
            "backgroundcolor": "#E5ECF6",
            "gridcolor": "white",
            "gridwidth": 2,
            "linecolor": "white",
            "showbackground": true,
            "ticks": "",
            "zerolinecolor": "white"
           },
           "yaxis": {
            "backgroundcolor": "#E5ECF6",
            "gridcolor": "white",
            "gridwidth": 2,
            "linecolor": "white",
            "showbackground": true,
            "ticks": "",
            "zerolinecolor": "white"
           },
           "zaxis": {
            "backgroundcolor": "#E5ECF6",
            "gridcolor": "white",
            "gridwidth": 2,
            "linecolor": "white",
            "showbackground": true,
            "ticks": "",
            "zerolinecolor": "white"
           }
          },
          "shapedefaults": {
           "line": {
            "color": "#2a3f5f"
           }
          },
          "ternary": {
           "aaxis": {
            "gridcolor": "white",
            "linecolor": "white",
            "ticks": ""
           },
           "baxis": {
            "gridcolor": "white",
            "linecolor": "white",
            "ticks": ""
           },
           "bgcolor": "#E5ECF6",
           "caxis": {
            "gridcolor": "white",
            "linecolor": "white",
            "ticks": ""
           }
          },
          "title": {
           "x": 0.05
          },
          "xaxis": {
           "automargin": true,
           "gridcolor": "white",
           "linecolor": "white",
           "ticks": "",
           "title": {
            "standoff": 15
           },
           "zerolinecolor": "white",
           "zerolinewidth": 2
          },
          "yaxis": {
           "automargin": true,
           "gridcolor": "white",
           "linecolor": "white",
           "ticks": "",
           "title": {
            "standoff": 15
           },
           "zerolinecolor": "white",
           "zerolinewidth": 2
          }
         }
        },
        "title": {
         "text": "Control Chart - maintainability_issues_high"
        },
        "xaxis": {
         "title": {
          "text": "Timestamp"
         }
        },
        "yaxis": {
         "title": {
          "text": "maintainability_issues_high"
         }
        }
       }
      }
     },
     "metadata": {},
     "output_type": "display_data"
    },
    {
     "data": {
      "application/vnd.plotly.v1+json": {
       "config": {
        "plotlyServerURL": "https://plot.ly"
       },
       "data": [
        {
         "mode": "lines+markers",
         "name": "Data Points",
         "type": "scatter",
         "x": [
          "1970-01-01T00:00:01.542074",
          "1970-01-01T00:00:01.544814",
          "1970-01-01T00:00:01.542137",
          "1970-01-01T00:00:01.549388",
          "1970-01-01T00:00:01.547592",
          "1970-01-01T00:00:01.549473",
          "1970-01-01T00:00:01.550164",
          "1970-01-01T00:00:01.550769",
          "1970-01-01T00:00:01.551827",
          "1970-01-01T00:00:01.553266",
          "1970-01-01T00:00:01.553756",
          "1970-01-01T00:00:01.565035",
          "1970-01-01T00:00:01.554308",
          "1970-01-01T00:00:01.565035",
          "1970-01-01T00:00:01.603226",
          "1970-01-01T00:00:01.603367",
          "1970-01-01T00:00:01.616443",
          "1970-01-01T00:00:01.648570",
          "1970-01-01T00:00:01.651004",
          "1970-01-01T00:00:01.654732"
         ],
         "y": [
          701,
          701,
          701,
          701,
          510,
          510,
          510,
          519,
          411,
          456,
          456,
          456,
          639,
          628,
          639,
          819,
          819,
          826,
          665,
          647
         ]
        },
        {
         "line": {
          "dash": "dash"
         },
         "mode": "lines",
         "name": "Mean",
         "type": "scatter",
         "x": [
          "1970-01-01T00:00:01.542074",
          "1970-01-01T00:00:01.544814",
          "1970-01-01T00:00:01.542137",
          "1970-01-01T00:00:01.549388",
          "1970-01-01T00:00:01.547592",
          "1970-01-01T00:00:01.549473",
          "1970-01-01T00:00:01.550164",
          "1970-01-01T00:00:01.550769",
          "1970-01-01T00:00:01.551827",
          "1970-01-01T00:00:01.553266",
          "1970-01-01T00:00:01.553756",
          "1970-01-01T00:00:01.565035",
          "1970-01-01T00:00:01.554308",
          "1970-01-01T00:00:01.565035",
          "1970-01-01T00:00:01.603226",
          "1970-01-01T00:00:01.603367",
          "1970-01-01T00:00:01.616443",
          "1970-01-01T00:00:01.648570",
          "1970-01-01T00:00:01.651004",
          "1970-01-01T00:00:01.654732"
         ],
         "y": [
          615.7,
          615.7,
          615.7,
          615.7,
          615.7,
          615.7,
          615.7,
          615.7,
          615.7,
          615.7,
          615.7,
          615.7,
          615.7,
          615.7,
          615.7,
          615.7,
          615.7,
          615.7,
          615.7,
          615.7
         ]
        },
        {
         "line": {
          "dash": "dash"
         },
         "mode": "lines",
         "name": "Upper Control Limit",
         "type": "scatter",
         "x": [
          "1970-01-01T00:00:01.542074",
          "1970-01-01T00:00:01.544814",
          "1970-01-01T00:00:01.542137",
          "1970-01-01T00:00:01.549388",
          "1970-01-01T00:00:01.547592",
          "1970-01-01T00:00:01.549473",
          "1970-01-01T00:00:01.550164",
          "1970-01-01T00:00:01.550769",
          "1970-01-01T00:00:01.551827",
          "1970-01-01T00:00:01.553266",
          "1970-01-01T00:00:01.553756",
          "1970-01-01T00:00:01.565035",
          "1970-01-01T00:00:01.554308",
          "1970-01-01T00:00:01.565035",
          "1970-01-01T00:00:01.603226",
          "1970-01-01T00:00:01.603367",
          "1970-01-01T00:00:01.616443",
          "1970-01-01T00:00:01.648570",
          "1970-01-01T00:00:01.651004",
          "1970-01-01T00:00:01.654732"
         ],
         "y": [
          1006.198992518412,
          1006.198992518412,
          1006.198992518412,
          1006.198992518412,
          1006.198992518412,
          1006.198992518412,
          1006.198992518412,
          1006.198992518412,
          1006.198992518412,
          1006.198992518412,
          1006.198992518412,
          1006.198992518412,
          1006.198992518412,
          1006.198992518412,
          1006.198992518412,
          1006.198992518412,
          1006.198992518412,
          1006.198992518412,
          1006.198992518412,
          1006.198992518412
         ]
        },
        {
         "line": {
          "dash": "dash"
         },
         "mode": "lines",
         "name": "Lower Control Limit",
         "type": "scatter",
         "x": [
          "1970-01-01T00:00:01.542074",
          "1970-01-01T00:00:01.544814",
          "1970-01-01T00:00:01.542137",
          "1970-01-01T00:00:01.549388",
          "1970-01-01T00:00:01.547592",
          "1970-01-01T00:00:01.549473",
          "1970-01-01T00:00:01.550164",
          "1970-01-01T00:00:01.550769",
          "1970-01-01T00:00:01.551827",
          "1970-01-01T00:00:01.553266",
          "1970-01-01T00:00:01.553756",
          "1970-01-01T00:00:01.565035",
          "1970-01-01T00:00:01.554308",
          "1970-01-01T00:00:01.565035",
          "1970-01-01T00:00:01.603226",
          "1970-01-01T00:00:01.603367",
          "1970-01-01T00:00:01.616443",
          "1970-01-01T00:00:01.648570",
          "1970-01-01T00:00:01.651004",
          "1970-01-01T00:00:01.654732"
         ],
         "y": [
          225.20100748158814,
          225.20100748158814,
          225.20100748158814,
          225.20100748158814,
          225.20100748158814,
          225.20100748158814,
          225.20100748158814,
          225.20100748158814,
          225.20100748158814,
          225.20100748158814,
          225.20100748158814,
          225.20100748158814,
          225.20100748158814,
          225.20100748158814,
          225.20100748158814,
          225.20100748158814,
          225.20100748158814,
          225.20100748158814,
          225.20100748158814,
          225.20100748158814
         ]
        }
       ],
       "layout": {
        "template": {
         "data": {
          "bar": [
           {
            "error_x": {
             "color": "#2a3f5f"
            },
            "error_y": {
             "color": "#2a3f5f"
            },
            "marker": {
             "line": {
              "color": "#E5ECF6",
              "width": 0.5
             },
             "pattern": {
              "fillmode": "overlay",
              "size": 10,
              "solidity": 0.2
             }
            },
            "type": "bar"
           }
          ],
          "barpolar": [
           {
            "marker": {
             "line": {
              "color": "#E5ECF6",
              "width": 0.5
             },
             "pattern": {
              "fillmode": "overlay",
              "size": 10,
              "solidity": 0.2
             }
            },
            "type": "barpolar"
           }
          ],
          "carpet": [
           {
            "aaxis": {
             "endlinecolor": "#2a3f5f",
             "gridcolor": "white",
             "linecolor": "white",
             "minorgridcolor": "white",
             "startlinecolor": "#2a3f5f"
            },
            "baxis": {
             "endlinecolor": "#2a3f5f",
             "gridcolor": "white",
             "linecolor": "white",
             "minorgridcolor": "white",
             "startlinecolor": "#2a3f5f"
            },
            "type": "carpet"
           }
          ],
          "choropleth": [
           {
            "colorbar": {
             "outlinewidth": 0,
             "ticks": ""
            },
            "type": "choropleth"
           }
          ],
          "contour": [
           {
            "colorbar": {
             "outlinewidth": 0,
             "ticks": ""
            },
            "colorscale": [
             [
              0,
              "#0d0887"
             ],
             [
              0.1111111111111111,
              "#46039f"
             ],
             [
              0.2222222222222222,
              "#7201a8"
             ],
             [
              0.3333333333333333,
              "#9c179e"
             ],
             [
              0.4444444444444444,
              "#bd3786"
             ],
             [
              0.5555555555555556,
              "#d8576b"
             ],
             [
              0.6666666666666666,
              "#ed7953"
             ],
             [
              0.7777777777777778,
              "#fb9f3a"
             ],
             [
              0.8888888888888888,
              "#fdca26"
             ],
             [
              1,
              "#f0f921"
             ]
            ],
            "type": "contour"
           }
          ],
          "contourcarpet": [
           {
            "colorbar": {
             "outlinewidth": 0,
             "ticks": ""
            },
            "type": "contourcarpet"
           }
          ],
          "heatmap": [
           {
            "colorbar": {
             "outlinewidth": 0,
             "ticks": ""
            },
            "colorscale": [
             [
              0,
              "#0d0887"
             ],
             [
              0.1111111111111111,
              "#46039f"
             ],
             [
              0.2222222222222222,
              "#7201a8"
             ],
             [
              0.3333333333333333,
              "#9c179e"
             ],
             [
              0.4444444444444444,
              "#bd3786"
             ],
             [
              0.5555555555555556,
              "#d8576b"
             ],
             [
              0.6666666666666666,
              "#ed7953"
             ],
             [
              0.7777777777777778,
              "#fb9f3a"
             ],
             [
              0.8888888888888888,
              "#fdca26"
             ],
             [
              1,
              "#f0f921"
             ]
            ],
            "type": "heatmap"
           }
          ],
          "heatmapgl": [
           {
            "colorbar": {
             "outlinewidth": 0,
             "ticks": ""
            },
            "colorscale": [
             [
              0,
              "#0d0887"
             ],
             [
              0.1111111111111111,
              "#46039f"
             ],
             [
              0.2222222222222222,
              "#7201a8"
             ],
             [
              0.3333333333333333,
              "#9c179e"
             ],
             [
              0.4444444444444444,
              "#bd3786"
             ],
             [
              0.5555555555555556,
              "#d8576b"
             ],
             [
              0.6666666666666666,
              "#ed7953"
             ],
             [
              0.7777777777777778,
              "#fb9f3a"
             ],
             [
              0.8888888888888888,
              "#fdca26"
             ],
             [
              1,
              "#f0f921"
             ]
            ],
            "type": "heatmapgl"
           }
          ],
          "histogram": [
           {
            "marker": {
             "pattern": {
              "fillmode": "overlay",
              "size": 10,
              "solidity": 0.2
             }
            },
            "type": "histogram"
           }
          ],
          "histogram2d": [
           {
            "colorbar": {
             "outlinewidth": 0,
             "ticks": ""
            },
            "colorscale": [
             [
              0,
              "#0d0887"
             ],
             [
              0.1111111111111111,
              "#46039f"
             ],
             [
              0.2222222222222222,
              "#7201a8"
             ],
             [
              0.3333333333333333,
              "#9c179e"
             ],
             [
              0.4444444444444444,
              "#bd3786"
             ],
             [
              0.5555555555555556,
              "#d8576b"
             ],
             [
              0.6666666666666666,
              "#ed7953"
             ],
             [
              0.7777777777777778,
              "#fb9f3a"
             ],
             [
              0.8888888888888888,
              "#fdca26"
             ],
             [
              1,
              "#f0f921"
             ]
            ],
            "type": "histogram2d"
           }
          ],
          "histogram2dcontour": [
           {
            "colorbar": {
             "outlinewidth": 0,
             "ticks": ""
            },
            "colorscale": [
             [
              0,
              "#0d0887"
             ],
             [
              0.1111111111111111,
              "#46039f"
             ],
             [
              0.2222222222222222,
              "#7201a8"
             ],
             [
              0.3333333333333333,
              "#9c179e"
             ],
             [
              0.4444444444444444,
              "#bd3786"
             ],
             [
              0.5555555555555556,
              "#d8576b"
             ],
             [
              0.6666666666666666,
              "#ed7953"
             ],
             [
              0.7777777777777778,
              "#fb9f3a"
             ],
             [
              0.8888888888888888,
              "#fdca26"
             ],
             [
              1,
              "#f0f921"
             ]
            ],
            "type": "histogram2dcontour"
           }
          ],
          "mesh3d": [
           {
            "colorbar": {
             "outlinewidth": 0,
             "ticks": ""
            },
            "type": "mesh3d"
           }
          ],
          "parcoords": [
           {
            "line": {
             "colorbar": {
              "outlinewidth": 0,
              "ticks": ""
             }
            },
            "type": "parcoords"
           }
          ],
          "pie": [
           {
            "automargin": true,
            "type": "pie"
           }
          ],
          "scatter": [
           {
            "fillpattern": {
             "fillmode": "overlay",
             "size": 10,
             "solidity": 0.2
            },
            "type": "scatter"
           }
          ],
          "scatter3d": [
           {
            "line": {
             "colorbar": {
              "outlinewidth": 0,
              "ticks": ""
             }
            },
            "marker": {
             "colorbar": {
              "outlinewidth": 0,
              "ticks": ""
             }
            },
            "type": "scatter3d"
           }
          ],
          "scattercarpet": [
           {
            "marker": {
             "colorbar": {
              "outlinewidth": 0,
              "ticks": ""
             }
            },
            "type": "scattercarpet"
           }
          ],
          "scattergeo": [
           {
            "marker": {
             "colorbar": {
              "outlinewidth": 0,
              "ticks": ""
             }
            },
            "type": "scattergeo"
           }
          ],
          "scattergl": [
           {
            "marker": {
             "colorbar": {
              "outlinewidth": 0,
              "ticks": ""
             }
            },
            "type": "scattergl"
           }
          ],
          "scattermapbox": [
           {
            "marker": {
             "colorbar": {
              "outlinewidth": 0,
              "ticks": ""
             }
            },
            "type": "scattermapbox"
           }
          ],
          "scatterpolar": [
           {
            "marker": {
             "colorbar": {
              "outlinewidth": 0,
              "ticks": ""
             }
            },
            "type": "scatterpolar"
           }
          ],
          "scatterpolargl": [
           {
            "marker": {
             "colorbar": {
              "outlinewidth": 0,
              "ticks": ""
             }
            },
            "type": "scatterpolargl"
           }
          ],
          "scatterternary": [
           {
            "marker": {
             "colorbar": {
              "outlinewidth": 0,
              "ticks": ""
             }
            },
            "type": "scatterternary"
           }
          ],
          "surface": [
           {
            "colorbar": {
             "outlinewidth": 0,
             "ticks": ""
            },
            "colorscale": [
             [
              0,
              "#0d0887"
             ],
             [
              0.1111111111111111,
              "#46039f"
             ],
             [
              0.2222222222222222,
              "#7201a8"
             ],
             [
              0.3333333333333333,
              "#9c179e"
             ],
             [
              0.4444444444444444,
              "#bd3786"
             ],
             [
              0.5555555555555556,
              "#d8576b"
             ],
             [
              0.6666666666666666,
              "#ed7953"
             ],
             [
              0.7777777777777778,
              "#fb9f3a"
             ],
             [
              0.8888888888888888,
              "#fdca26"
             ],
             [
              1,
              "#f0f921"
             ]
            ],
            "type": "surface"
           }
          ],
          "table": [
           {
            "cells": {
             "fill": {
              "color": "#EBF0F8"
             },
             "line": {
              "color": "white"
             }
            },
            "header": {
             "fill": {
              "color": "#C8D4E3"
             },
             "line": {
              "color": "white"
             }
            },
            "type": "table"
           }
          ]
         },
         "layout": {
          "annotationdefaults": {
           "arrowcolor": "#2a3f5f",
           "arrowhead": 0,
           "arrowwidth": 1
          },
          "autotypenumbers": "strict",
          "coloraxis": {
           "colorbar": {
            "outlinewidth": 0,
            "ticks": ""
           }
          },
          "colorscale": {
           "diverging": [
            [
             0,
             "#8e0152"
            ],
            [
             0.1,
             "#c51b7d"
            ],
            [
             0.2,
             "#de77ae"
            ],
            [
             0.3,
             "#f1b6da"
            ],
            [
             0.4,
             "#fde0ef"
            ],
            [
             0.5,
             "#f7f7f7"
            ],
            [
             0.6,
             "#e6f5d0"
            ],
            [
             0.7,
             "#b8e186"
            ],
            [
             0.8,
             "#7fbc41"
            ],
            [
             0.9,
             "#4d9221"
            ],
            [
             1,
             "#276419"
            ]
           ],
           "sequential": [
            [
             0,
             "#0d0887"
            ],
            [
             0.1111111111111111,
             "#46039f"
            ],
            [
             0.2222222222222222,
             "#7201a8"
            ],
            [
             0.3333333333333333,
             "#9c179e"
            ],
            [
             0.4444444444444444,
             "#bd3786"
            ],
            [
             0.5555555555555556,
             "#d8576b"
            ],
            [
             0.6666666666666666,
             "#ed7953"
            ],
            [
             0.7777777777777778,
             "#fb9f3a"
            ],
            [
             0.8888888888888888,
             "#fdca26"
            ],
            [
             1,
             "#f0f921"
            ]
           ],
           "sequentialminus": [
            [
             0,
             "#0d0887"
            ],
            [
             0.1111111111111111,
             "#46039f"
            ],
            [
             0.2222222222222222,
             "#7201a8"
            ],
            [
             0.3333333333333333,
             "#9c179e"
            ],
            [
             0.4444444444444444,
             "#bd3786"
            ],
            [
             0.5555555555555556,
             "#d8576b"
            ],
            [
             0.6666666666666666,
             "#ed7953"
            ],
            [
             0.7777777777777778,
             "#fb9f3a"
            ],
            [
             0.8888888888888888,
             "#fdca26"
            ],
            [
             1,
             "#f0f921"
            ]
           ]
          },
          "colorway": [
           "#636efa",
           "#EF553B",
           "#00cc96",
           "#ab63fa",
           "#FFA15A",
           "#19d3f3",
           "#FF6692",
           "#B6E880",
           "#FF97FF",
           "#FECB52"
          ],
          "font": {
           "color": "#2a3f5f"
          },
          "geo": {
           "bgcolor": "white",
           "lakecolor": "white",
           "landcolor": "#E5ECF6",
           "showlakes": true,
           "showland": true,
           "subunitcolor": "white"
          },
          "hoverlabel": {
           "align": "left"
          },
          "hovermode": "closest",
          "mapbox": {
           "style": "light"
          },
          "paper_bgcolor": "white",
          "plot_bgcolor": "#E5ECF6",
          "polar": {
           "angularaxis": {
            "gridcolor": "white",
            "linecolor": "white",
            "ticks": ""
           },
           "bgcolor": "#E5ECF6",
           "radialaxis": {
            "gridcolor": "white",
            "linecolor": "white",
            "ticks": ""
           }
          },
          "scene": {
           "xaxis": {
            "backgroundcolor": "#E5ECF6",
            "gridcolor": "white",
            "gridwidth": 2,
            "linecolor": "white",
            "showbackground": true,
            "ticks": "",
            "zerolinecolor": "white"
           },
           "yaxis": {
            "backgroundcolor": "#E5ECF6",
            "gridcolor": "white",
            "gridwidth": 2,
            "linecolor": "white",
            "showbackground": true,
            "ticks": "",
            "zerolinecolor": "white"
           },
           "zaxis": {
            "backgroundcolor": "#E5ECF6",
            "gridcolor": "white",
            "gridwidth": 2,
            "linecolor": "white",
            "showbackground": true,
            "ticks": "",
            "zerolinecolor": "white"
           }
          },
          "shapedefaults": {
           "line": {
            "color": "#2a3f5f"
           }
          },
          "ternary": {
           "aaxis": {
            "gridcolor": "white",
            "linecolor": "white",
            "ticks": ""
           },
           "baxis": {
            "gridcolor": "white",
            "linecolor": "white",
            "ticks": ""
           },
           "bgcolor": "#E5ECF6",
           "caxis": {
            "gridcolor": "white",
            "linecolor": "white",
            "ticks": ""
           }
          },
          "title": {
           "x": 0.05
          },
          "xaxis": {
           "automargin": true,
           "gridcolor": "white",
           "linecolor": "white",
           "ticks": "",
           "title": {
            "standoff": 15
           },
           "zerolinecolor": "white",
           "zerolinewidth": 2
          },
          "yaxis": {
           "automargin": true,
           "gridcolor": "white",
           "linecolor": "white",
           "ticks": "",
           "title": {
            "standoff": 15
           },
           "zerolinecolor": "white",
           "zerolinewidth": 2
          }
         }
        },
        "title": {
         "text": "Control Chart - total_debt_high"
        },
        "xaxis": {
         "title": {
          "text": "Timestamp"
         }
        },
        "yaxis": {
         "title": {
          "text": "total_debt_high"
         }
        }
       }
      }
     },
     "metadata": {},
     "output_type": "display_data"
    }
   ],
   "source": [
    "import pandas as pd\n",
    "import plotly.graph_objects as go\n",
    "\n",
    "# Assuming your data is in a DataFrame named 'df_react'\n",
    "# If not, you can read your data into a DataFrame using pd.read_csv() or another appropriate method\n",
    "\n",
    "# Convert the 'timestamp' column to datetime format\n",
    "df_react['timestamp'] = pd.to_datetime(df_react['timestamp'])\n",
    "\n",
    "# Choose the columns you want to analyze\n",
    "columns_to_plot = ['security_issues_low', 'reliability_issues_low', 'maintainability_issues_low', 'total_debt_low',\n",
    "                   'security_issues_medium', 'reliability_issues_medium', 'maintainability_issues_medium', 'total_debt_medium',\n",
    "                   'security_issues_high', 'reliability_issues_high', 'maintainability_issues_high', 'total_debt_high']\n",
    "\n",
    "# Filter out columns where the entire column is zero\n",
    "non_zero_columns = [column for column in columns_to_plot if any(df_react[column] != 0)]\n",
    "\n",
    "# Plot control charts for each non-zero column\n",
    "for column in non_zero_columns:\n",
    "    fig = go.Figure()\n",
    "\n",
    "    # Scatter plot with lines for data points\n",
    "    fig.add_trace(go.Scatter(x=df_react['timestamp'], y=df_react[column], mode='lines+markers', name='Data Points'))\n",
    "\n",
    "    # Line for the mean\n",
    "    fig.add_trace(go.Scatter(x=df_react['timestamp'], y=[df_react[column].mean()] * len(df_react),\n",
    "                             mode='lines', line=dict(dash='dash'), name='Mean'))\n",
    "\n",
    "    # Line for upper control limit\n",
    "    upper_limit = df_react[column].mean() + 3 * df_react[column].std()\n",
    "    fig.add_trace(go.Scatter(x=df_react['timestamp'], y=[upper_limit] * len(df_react),\n",
    "                             mode='lines', line=dict(dash='dash'), name='Upper Control Limit'))\n",
    "\n",
    "    # Line for lower control limit\n",
    "    lower_limit = df_react[column].mean() - 3 * df_react[column].std()\n",
    "    fig.add_trace(go.Scatter(x=df_react['timestamp'], y=[lower_limit] * len(df_react),\n",
    "                             mode='lines', line=dict(dash='dash'), name='Lower Control Limit'))\n",
    "\n",
    "    # Set layout\n",
    "    fig.update_layout(title=f'Control Chart - {column}',\n",
    "                      xaxis_title='Timestamp',\n",
    "                      yaxis_title=column)\n",
    "\n",
    "    fig.show()\n"
   ]
  },
  {
   "cell_type": "code",
   "execution_count": 11,
   "metadata": {},
   "outputs": [
    {
     "data": {
      "image/png": "[encoded data removed]",
      "text/plain": [
       "<Figure size 800x800 with 14 Axes>"
      ]
     },
     "metadata": {},
     "output_type": "display_data"
    }
   ],
   "source": [
    "import pandas as pd\n",
    "import seaborn as sns\n",
    "import matplotlib.pyplot as plt\n",
    "\n",
    "# Assuming your data is in a DataFrame named 'df_react'\n",
    "# If not, you can read your data into a DataFrame using pd.read_csv() or another appropriate method\n",
    "\n",
    "# Select the columns you want to include in the pair plot\n",
    "selected_columns = ['security_issues_low', 'reliability_issues_low', 'maintainability_issues_low', 'total_debt_low',\n",
    "                    'security_issues_medium', 'reliability_issues_medium', 'maintainability_issues_medium', 'total_debt_medium',\n",
    "                    'security_issues_high', 'reliability_issues_high', 'maintainability_issues_high', 'total_debt_high']\n",
    "\n",
    "# Create a subset DataFrame with selected columns\n",
    "pairplot_df = df_react[selected_columns]\n",
    "\n",
    "# Filter out columns where the entire column is zero\n",
    "non_zero_columns = pairplot_df.columns[(pairplot_df != 0).any()]\n",
    "\n",
    "# Create a pair plot with scatter plots and histograms for non-zero columns\n",
    "sns.set(style=\"whitegrid\")\n",
    "sns.pairplot(pairplot_df[non_zero_columns], corner=True, diag_kind='kde', markers='.', height=2)\n",
    "plt.suptitle(\"Pair Plot and Skewness for Non-Zero Columns\", y=1.02, fontsize=16)\n",
    "plt.show()\n"
   ]
  },
  {
   "cell_type": "code",
   "execution_count": null,
   "metadata": {},
   "outputs": [],
   "source": []
  }
 ],
 "metadata": {
  "kernelspec": {
   "display_name": "venv",
   "language": "python",
   "name": "python3"
  },
  "language_info": {
   "codemirror_mode": {
    "name": "ipython",
    "version": 3
   },
   "file_extension": ".py",
   "mimetype": "text/x-python",
   "name": "python",
   "nbconvert_exporter": "python",
   "pygments_lexer": "ipython3",
   "version": "3.10.2"
  }
 },
 "nbformat": 4,
 "nbformat_minor": 2
}
