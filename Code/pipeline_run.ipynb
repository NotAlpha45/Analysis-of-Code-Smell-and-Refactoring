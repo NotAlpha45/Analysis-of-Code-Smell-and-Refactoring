{
 "cells": [
  {
   "cell_type": "code",
   "execution_count": 2,
   "metadata": {},
   "outputs": [
    {
     "data": {
      "text/plain": [
       "True"
      ]
     },
     "execution_count": 2,
     "metadata": {},
     "output_type": "execute_result"
    }
   ],
   "source": [
    "import data_extraction_pipeline as dep\n",
    "import os\n",
    "from dotenv import load_dotenv\n",
    "\n",
    "load_dotenv()"
   ]
  },
  {
   "cell_type": "code",
   "execution_count": null,
   "metadata": {},
   "outputs": [],
   "source": [
    "token = os.getenv(\"VANT_TOKEN\")\n",
    "url = os.getenv(\"SONARQUBE_SERVER_URL\")\n",
    "\n",
    "# print(token, url)\n",
    "\n",
    "pipeline = dep.DataExtractionPipeline(\n",
    "    sonarqube_url=url,\n",
    "    sonarqube_token=token,\n",
    "    repo_name=\"vant\",\n",
    "    repo_path=\"D:\\\\Test repositories\\\\Frontend Repos\\\\vant\",\n",
    ")\n",
    "\n",
    "metrics_data, clean_code_data = pipeline.get_metrics_data()\n",
    "\n",
    "print(metrics_data)\n",
    "print(clean_code_data)"
   ]
  }
 ],
 "metadata": {
  "kernelspec": {
   "display_name": "venv",
   "language": "python",
   "name": "python3"
  },
  "language_info": {
   "codemirror_mode": {
    "name": "ipython",
    "version": 3
   },
   "file_extension": ".py",
   "mimetype": "text/x-python",
   "name": "python",
   "nbconvert_exporter": "python",
   "pygments_lexer": "ipython3",
   "version": "3.12.3"
  }
 },
 "nbformat": 4,
 "nbformat_minor": 2
}
