{
 "cells": [
  {
   "cell_type": "code",
   "execution_count": null,
   "metadata": {},
   "outputs": [],
   "source": [
    "import data_extraction_pipeline as dep\n",
    "import os\n",
    "from dotenv import load_dotenv\n",
    "import pandas as pd"
   ]
  },
  {
   "cell_type": "code",
   "execution_count": null,
   "metadata": {},
   "outputs": [],
   "source": [
    "load_dotenv()\n",
    "token = os.getenv(\"GLOBAL_TOKEN\")\n",
    "url = os.getenv(\"SONARQUBE_SERVER_URL\")"
   ]
  },
  {
   "cell_type": "code",
   "execution_count": null,
   "metadata": {},
   "outputs": [],
   "source": [
    "def process_with_sonarqube(\n",
    "    repo_name: str,\n",
    "    repo_path: str,\n",
    "    max_tags: int | None = None,\n",
    "    max_tags_per_year: int | None = None,\n",
    "    token: str = os.getenv(\"GLOBAL_TOKEN\"),\n",
    "    sonarqube_server_url: str = os.getenv(\"SONARQUBE_SERVER_URL\"),\n",
    "    from_year: int | None = 2016,\n",
    "    to_year: int | None = None,\n",
    "):\n",
    "    \"\"\"Process the repository with SonarQube and save the metrics and clean code data to the respective directories.\"\"\"\n",
    "\n",
    "    pipeline = dep.DataExtractionPipeline(\n",
    "        sonarqube_url=sonarqube_server_url,\n",
    "        sonarqube_token=token,\n",
    "        repo_name=repo_name,\n",
    "        repo_path=repo_path,\n",
    "        from_year=from_year,\n",
    "        to_year=to_year,\n",
    "    )\n",
    "\n",
    "    metrics_data, clean_code_data = pipeline.get_metrics_data(\n",
    "        max_tags=max_tags, max_tags_per_year=max_tags_per_year\n",
    "    )\n",
    "\n",
    "    return metrics_data, clean_code_data\n",
    "\n",
    "    # pd.DataFrame(metrics_data).to_csv(\n",
    "    #     f\"../Datasets/RQ1_New/{repo_name}_metrics.csv\", index=False\n",
    "    # )\n",
    "\n",
    "    # os.makedirs(f\"../Datasets/RQ2_New/{repo_name}\", exist_ok=True)\n",
    "\n",
    "    # for clean_code_metric_name in clean_code_data.keys():\n",
    "    #     pd.DataFrame(clean_code_data[clean_code_metric_name]).to_csv(\n",
    "    #         f\"../Datasets/RQ2_New/{repo_name}/{clean_code_metric_name.lower()}.csv\",\n",
    "    #         index=False,\n",
    "    #     )"
   ]
  },
  {
   "cell_type": "code",
   "execution_count": null,
   "metadata": {},
   "outputs": [],
   "source": [
    "# react_args = {\n",
    "#     \"repo_name\": \"react\",\n",
    "#     \"repo_path\": \"D:\\\\Test repositories\\\\Frontend Repos\\\\react\",\n",
    "#     \"max_tags\": None,\n",
    "#     \"max_tags_per_year\": None,\n",
    "#     \"token\": token,\n",
    "#     \"sonarqube_server_url\": url,\n",
    "# }\n",
    "\n",
    "# process_with_sonarqube(**react_args)"
   ]
  },
  {
   "cell_type": "code",
   "execution_count": null,
   "metadata": {},
   "outputs": [],
   "source": [
    "# vue_args = {\n",
    "#     \"repo_name\": \"vue\",\n",
    "#     \"repo_path\": \"D:\\\\Test repositories\\\\Frontend Repos\\\\core\",\n",
    "#     \"max_tags\": None,\n",
    "#     \"max_tags_per_year\": None,\n",
    "#     \"token\": token,\n",
    "#     \"sonarqube_server_url\": url,\n",
    "# }\n",
    "\n",
    "# process_with_sonarqube(**vue_args)"
   ]
  },
  {
   "cell_type": "code",
   "execution_count": null,
   "metadata": {},
   "outputs": [],
   "source": [
    "angular_args = {\n",
    "    \"repo_name\": \"angular\",\n",
    "    \"repo_path\": \"D:\\\\Test repositories\\\\Frontend Repos\\\\angular\",\n",
    "    \"max_tags\": None,\n",
    "    \"max_tags_per_year\": None,\n",
    "    \"token\": token,\n",
    "    \"sonarqube_server_url\": url,\n",
    "}\n",
    "\n",
    "angular_metrics_data, angular_clean_code_data = process_with_sonarqube(**angular_args)"
   ]
  },
  {
   "cell_type": "code",
   "execution_count": null,
   "metadata": {},
   "outputs": [],
   "source": [
    "# svelte_args = {\n",
    "#     \"repo_name\": \"svelte\",\n",
    "#     \"repo_path\": \"D:\\\\Test repositories\\\\Frontend Repos\\\\svelte\",\n",
    "#     \"max_tags\": None,\n",
    "#     \"max_tags_per_year\": None,\n",
    "#     \"token\": token,\n",
    "#     \"sonarqube_server_url\": url,\n",
    "# }\n",
    "\n",
    "# process_with_sonarqube(**svelte_args)"
   ]
  },
  {
   "cell_type": "code",
   "execution_count": null,
   "metadata": {},
   "outputs": [],
   "source": []
  }
 ],
 "metadata": {
  "kernelspec": {
   "display_name": "venv",
   "language": "python",
   "name": "python3"
  },
  "language_info": {
   "codemirror_mode": {
    "name": "ipython",
    "version": 3
   },
   "file_extension": ".py",
   "mimetype": "text/x-python",
   "name": "python",
   "nbconvert_exporter": "python",
   "pygments_lexer": "ipython3",
   "version": "3.12.3"
  }
 },
 "nbformat": 4,
 "nbformat_minor": 2
}
