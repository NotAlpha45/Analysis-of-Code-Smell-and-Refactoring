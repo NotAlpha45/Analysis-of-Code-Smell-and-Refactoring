{
 "cells": [
  {
   "cell_type": "code",
   "execution_count": 6,
   "metadata": {},
   "outputs": [],
   "source": [
    "import data_extraction_pipeline as dep\n",
    "import os\n",
    "from dotenv import load_dotenv\n",
    "import pandas as pd"
   ]
  },
  {
   "cell_type": "code",
   "execution_count": 5,
   "metadata": {},
   "outputs": [
    {
     "data": {
      "text/plain": [
       "'sqa_8361b6681a955831bb8019be6ce64c0f1199bd8f'"
      ]
     },
     "execution_count": 5,
     "metadata": {},
     "output_type": "execute_result"
    }
   ],
   "source": [
    "load_dotenv()\n",
    "token = os.getenv(\"GLOBAL_TOKEN\")\n",
    "url = os.getenv(\"SONARQUBE_SERVER_URL\")\n",
    "repo_name = \"vant\"\n",
    "token"
   ]
  },
  {
   "cell_type": "code",
   "execution_count": null,
   "metadata": {},
   "outputs": [],
   "source": []
  },
  {
   "cell_type": "code",
   "execution_count": null,
   "metadata": {},
   "outputs": [],
   "source": [
    "pipeline = dep.DataExtractionPipeline(\n",
    "    sonarqube_url=url,\n",
    "    sonarqube_token=token,\n",
    "    repo_name=\"vant\",\n",
    "    repo_path=\"D:\\\\Test repositories\\\\Frontend Repos\\\\vant\",\n",
    ")\n",
    "\n",
    "metrics_data, clean_code_data = pipeline.get_metrics_data()"
   ]
  },
  {
   "cell_type": "code",
   "execution_count": 7,
   "metadata": {},
   "outputs": [],
   "source": [
    "pd.DataFrame(metrics_data).to_csv(\n",
    "    f\"../Datasets/RQ1_New/{repo_name}_metrics.csv\", index=False\n",
    ")"
   ]
  },
  {
   "cell_type": "code",
   "execution_count": 13,
   "metadata": {},
   "outputs": [],
   "source": [
    "os.makedirs(f\"../Datasets/RQ2_New/{repo_name}\", exist_ok=True)\n",
    "\n",
    "for clean_code_metric_name in clean_code_data.keys():\n",
    "    pd.DataFrame(clean_code_data[clean_code_metric_name]).to_csv(\n",
    "        f\"../Datasets/RQ2_New/{repo_name}/{clean_code_metric_name.lower()}.csv\",\n",
    "        index=False,\n",
    "    )"
   ]
  },
  {
   "cell_type": "code",
   "execution_count": null,
   "metadata": {},
   "outputs": [],
   "source": []
  }
 ],
 "metadata": {
  "kernelspec": {
   "display_name": "venv",
   "language": "python",
   "name": "python3"
  },
  "language_info": {
   "codemirror_mode": {
    "name": "ipython",
    "version": 3
   },
   "file_extension": ".py",
   "mimetype": "text/x-python",
   "name": "python",
   "nbconvert_exporter": "python",
   "pygments_lexer": "ipython3",
   "version": "3.12.3"
  }
 },
 "nbformat": 4,
 "nbformat_minor": 2
}
