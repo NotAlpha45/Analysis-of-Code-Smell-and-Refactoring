{
 "cells": [
  {
   "cell_type": "markdown",
   "metadata": {},
   "source": [
    "## Scraping Data from CodeClimate\n"
   ]
  },
  {
   "cell_type": "code",
   "execution_count": 115,
   "metadata": {},
   "outputs": [],
   "source": [
    "import json\n",
    "import os\n",
    "from dotenv import load_dotenv\n",
    "import subprocess as sp\n",
    "import pandas as pd\n",
    "from collections import defaultdict\n",
    "from datetime import datetime"
   ]
  },
  {
   "cell_type": "code",
   "execution_count": 116,
   "metadata": {},
   "outputs": [
    {
     "data": {
      "text/plain": [
       "True"
      ]
     },
     "execution_count": 116,
     "metadata": {},
     "output_type": "execute_result"
    }
   ],
   "source": [
    "load_dotenv()"
   ]
  },
  {
   "cell_type": "code",
   "execution_count": 117,
   "metadata": {},
   "outputs": [],
   "source": [
    "github_token = os.getenv(\"GITHUB_ACCESS_TOKEN\")\n",
    "sonarqube_token = os.getenv(\"SONARQUBE_ACCESS_TOKEN_VUE\")\n",
    "sonarqube_server_url = os.getenv(\"SONARQUBE_SERVER_URL\")"
   ]
  },
  {
   "cell_type": "code",
   "execution_count": 118,
   "metadata": {},
   "outputs": [],
   "source": [
    "demo_github_slug = \"vuejs\"\n",
    "demo_repo_name = \"vue\"\n",
    "demo_repo_path = \"C:/SWE Class/Github Desktop/TestProjects/vue\""
   ]
  },
  {
   "cell_type": "code",
   "execution_count": 119,
   "metadata": {},
   "outputs": [],
   "source": [
    "clean_code_attribute_categories = [\n",
    "    \"RESPONSIBLE\",\n",
    "    \"ADAPTABLE\",\n",
    "    \"CONSISTENT\",\n",
    "    \"INTENTIONAL\",\n",
    "]\n",
    "\n",
    "severities = [\"LOW\", \"MEDIUM\", \"HIGH\"]\n",
    "\n",
    "quality_attributes = [\n",
    "    \"RELIABILITY\",\n",
    "    \"SECURITY\",\n",
    "    \"MAINTAINABILITY\",\n",
    "]\n",
    "\n",
    "code_metrics = [\n",
    "    \"sqale_debt_ratio\",\n",
    "    \"vulnerabilities\",\n",
    "    \"security_rating\",\n",
    "    \"sqale_rating\",\n",
    "    \"complexity\",\n",
    "    \"cognitive_complexity\",\n",
    "    \"ncloc\",\n",
    "]\n",
    "\n",
    "indexing_fields = [\"version\", \"release_date\", \"timestamp\"]\n",
    "\n",
    "code_metrics_query_string = \",\".join(code_metrics)\n",
    "# code_metrics_query_string"
   ]
  },
  {
   "cell_type": "code",
   "execution_count": 120,
   "metadata": {},
   "outputs": [
    {
     "data": {
      "text/plain": [
       "defaultdict(list,\n",
       "            {'version': [],\n",
       "             'release_date': [],\n",
       "             'timestamp': [],\n",
       "             'sqale_debt_ratio': [],\n",
       "             'vulnerabilities': [],\n",
       "             'security_rating': [],\n",
       "             'sqale_rating': [],\n",
       "             'complexity': [],\n",
       "             'cognitive_complexity': [],\n",
       "             'ncloc': []})"
      ]
     },
     "execution_count": 120,
     "metadata": {},
     "output_type": "execute_result"
    }
   ],
   "source": [
    "metrics_dict = defaultdict(list)\n",
    "\n",
    "for metric in indexing_fields + code_metrics:\n",
    "    metrics_dict[metric] = []\n",
    "\n",
    "metrics_dict"
   ]
  },
  {
   "cell_type": "code",
   "execution_count": 121,
   "metadata": {},
   "outputs": [
    {
     "data": {
      "text/plain": [
       "defaultdict(None,\n",
       "            {'RESPONSIBLE': defaultdict(list, {}),\n",
       "             'ADAPTABLE': defaultdict(list, {}),\n",
       "             'CONSISTENT': defaultdict(list, {}),\n",
       "             'INTENTIONAL': defaultdict(list, {})})"
      ]
     },
     "execution_count": 121,
     "metadata": {},
     "output_type": "execute_result"
    }
   ],
   "source": [
    "clean_code_attribute_dict = defaultdict()\n",
    "\n",
    "for category in clean_code_attribute_categories:\n",
    "    clean_code_attribute_dict[category] = defaultdict(list)\n",
    "\n",
    "clean_code_attribute_dict"
   ]
  },
  {
   "cell_type": "code",
   "execution_count": 122,
   "metadata": {},
   "outputs": [
    {
     "data": {
      "text/plain": [
       "('sqp_6a56b3fba4ce9fb8a298c75695285615a47d87dc', 'http://localhost:9000')"
      ]
     },
     "execution_count": 122,
     "metadata": {},
     "output_type": "execute_result"
    }
   ],
   "source": [
    "sonarqube_token, sonarqube_server_url"
   ]
  },
  {
   "cell_type": "markdown",
   "metadata": {},
   "source": [
    "## Git CLI Data Extraction\n"
   ]
  },
  {
   "cell_type": "code",
   "execution_count": 123,
   "metadata": {},
   "outputs": [],
   "source": [
    "def get_tag_list(repo_path: str, max_output: int = 20) -> list[str]:\n",
    "    # Subprocess to get the git directory\n",
    "    sp.run(\n",
    "        [\"git\", \"rev-parse\", \"--git-dir\"],\n",
    "        cwd=repo_path,\n",
    "        capture_output=True,\n",
    "        check=True,\n",
    "    )\n",
    "\n",
    "    # Subprocess to get the git tags in the repo\n",
    "    result = sp.run(\n",
    "        [\"git\", \"tag\", \"-l\"],\n",
    "        cwd=repo_path,\n",
    "        capture_output=True,\n",
    "        check=True,\n",
    "    )\n",
    "\n",
    "    tag_list = result.stdout.decode(\"utf-8\").split(\"\\n\")\n",
    "    tag_list = [tag for tag in tag_list if tag != \"\"]\n",
    "\n",
    "    if max_output is not None and len(tag_list) > max_output:\n",
    "        tag_list = tag_list[-max_output:]\n",
    "\n",
    "    return tag_list"
   ]
  },
  {
   "cell_type": "code",
   "execution_count": 124,
   "metadata": {},
   "outputs": [],
   "source": [
    "def get_tag_and_timestamp(repo_path: str) -> list[tuple[str, str, int]]:\n",
    "    tag_list = get_tag_list(repo_path, None)\n",
    "    tag_and_timestamp = []\n",
    "\n",
    "    for tag in tag_list:\n",
    "        result = sp.run(\n",
    "            [\"git\", \"log\", \"-1\", \"--format=%cd %ct\", \"--date=short\", tag],\n",
    "            cwd=repo_path,\n",
    "            capture_output=True,\n",
    "            check=True,\n",
    "            text=True,\n",
    "        )\n",
    "\n",
    "        date, timestamp = result.stdout.strip().split()\n",
    "        tag_and_timestamp.append((tag, date, int(timestamp)))\n",
    "        # print(result.stdout.strip())\n",
    "    return tag_and_timestamp"
   ]
  },
  {
   "cell_type": "code",
   "execution_count": 125,
   "metadata": {},
   "outputs": [],
   "source": [
    "def get_version_tags_by_year(data: list[tuple[str, str, int]], max_per_year=5):\n",
    "    versions_by_year = defaultdict(list)\n",
    "    datetime_converted_data = [\n",
    "        (version, datetime.strptime(date, \"%Y-%m-%d\"), timestamp)\n",
    "        for version, date, timestamp in data\n",
    "    ]\n",
    "\n",
    "    for version, release_date, timestamp in datetime_converted_data:\n",
    "        year = release_date.year\n",
    "        versions_by_year[year].append((version, release_date, timestamp))\n",
    "\n",
    "    selected_versions = []\n",
    "\n",
    "    for year in sorted(versions_by_year.keys()):\n",
    "        versions_of_this_year = versions_by_year[year]\n",
    "        selected_versions.extend(\n",
    "            versions_of_this_year[: min(max_per_year, len(versions_of_this_year))]\n",
    "        )\n",
    "\n",
    "    return [\n",
    "        (version, release_date.strftime(\"%Y-%m-%d\"), timestamp)\n",
    "        for version, release_date, timestamp in selected_versions\n",
    "    ]"
   ]
  },
  {
   "cell_type": "code",
   "execution_count": 126,
   "metadata": {},
   "outputs": [
    {
     "data": {
      "text/plain": [
       "[('0.6.0', '2013-12-07', 1386462737),\n",
       " ('v0.7.0', '2013-12-23', 1387855865),\n",
       " ('v0.7.1', '2013-12-24', 1387922313),\n",
       " ('v0.7.2', '2013-12-28', 1388209420),\n",
       " ('0.10.0-rc', '2014-03-19', 1395263823),\n",
       " ('0.11.0', '2014-11-06', 1415325162),\n",
       " ('0.11.0-rc', '2014-09-26', 1411781027),\n",
       " ('0.11.0-rc2', '2014-10-07', 1412701646),\n",
       " ('0.11.0-rc3', '2014-10-24', 1414123890),\n",
       " ('0.11.10', '2015-05-07', 1431025236),\n",
       " ('0.11.5', '2015-02-05', 1423171588),\n",
       " ('0.11.6', '2015-04-18', 1429341079),\n",
       " ('0.11.7', '2015-04-20', 1429586386),\n",
       " ('0.11.8', '2015-04-21', 1429647040),\n",
       " ('v1.0.14', '2016-01-11', 1452543146),\n",
       " ('v1.0.14-csp', '2016-01-11', 1452544748),\n",
       " ('v1.0.15', '2016-01-18', 1453146224),\n",
       " ('v1.0.15-csp', '2016-01-18', 1453146702),\n",
       " ('v1.0.16', '2016-01-30', 1454146899),\n",
       " ('v2.1.10', '2017-01-17', 1484673432),\n",
       " ('v2.1.9', '2017-01-16', 1484610487),\n",
       " ('v2.2.0', '2017-02-25', 1488083295),\n",
       " ('v2.2.0-beta.1', '2017-02-23', 1487910141),\n",
       " ('v2.2.0-beta.2', '2017-02-24', 1487980870),\n",
       " ('v2.5.14', '2018-03-09', 1520631707),\n",
       " ('v2.5.15', '2018-03-10', 1520725002),\n",
       " ('v2.5.16', '2018-03-13', 1520979260),\n",
       " ('v2.5.17', '2018-08-01', 1533151873),\n",
       " ('v2.5.17-beta.0', '2018-03-23', 1521847742),\n",
       " ('v2.5.22', '2019-01-11', 1547248711),\n",
       " ('v2.6.0', '2019-02-04', 1549295824),\n",
       " ('v2.6.0-beta.1', '2019-01-16', 1547655667),\n",
       " ('v2.6.0-beta.2', '2019-01-25', 1548477520),\n",
       " ('v2.6.0-beta.3', '2019-01-30', 1548860377),\n",
       " ('v2.6.12', '2020-08-20', 1597929059),\n",
       " ('v2.6.13', '2021-06-01', 1622557728),\n",
       " ('v2.6.14', '2021-06-07', 1623059728),\n",
       " ('v2.7.0', '2022-07-01', 1656649346),\n",
       " ('v2.7.0-alpha.1', '2022-05-31', 1653991057),\n",
       " ('v2.7.0-alpha.10', '2022-06-16', 1655371108),\n",
       " ('v2.7.0-alpha.11', '2022-06-16', 1655373221),\n",
       " ('v2.7.0-alpha.12', '2022-06-16', 1655387579),\n",
       " ('v2.7.15', '2023-10-23', 1698047740)]"
      ]
     },
     "execution_count": 126,
     "metadata": {},
     "output_type": "execute_result"
    }
   ],
   "source": [
    "tags_and_timestamps = get_version_tags_by_year(get_tag_and_timestamp(demo_repo_path))\n",
    "tags_and_timestamps"
   ]
  },
  {
   "cell_type": "code",
   "execution_count": 127,
   "metadata": {},
   "outputs": [],
   "source": [
    "# Checkout to a specific tag and show the output of the operation\n",
    "def checkout_to_tag(repo_path: str, tag: str):\n",
    "    result = sp.run(\n",
    "        [\"git\", \"checkout\", tag],\n",
    "        cwd=repo_path,\n",
    "        capture_output=True,\n",
    "        check=True,\n",
    "        text=True,\n",
    "    )\n",
    "    print(result.stdout.strip())"
   ]
  },
  {
   "cell_type": "code",
   "execution_count": 128,
   "metadata": {},
   "outputs": [],
   "source": [
    "# Checkout to a specific tag use sonar-scanner to scan the project\n",
    "def sonar_scan(repo_path: str, tag: str):\n",
    "    result = sp.run(\n",
    "        [\n",
    "            \"sonar-scanner\",\n",
    "            \"-D\",\n",
    "            f\"sonar.projectBaseDir={demo_repo_path}\",\n",
    "            \"-D\",\n",
    "            \"sonar.projectVersion=\" + tag,\n",
    "            \"-D\",\n",
    "            f\"sonar.projectKey={demo_repo_name}\",\n",
    "            \"-D\",\n",
    "            \"sonar.sources=.\",\n",
    "            \"-D\",\n",
    "            f\"sonar.host.url={sonarqube_server_url}\",\n",
    "            \"-D\",\n",
    "            \"sonar.login=\" + sonarqube_token,\n",
    "        ],\n",
    "        cwd=repo_path,\n",
    "        capture_output=True,\n",
    "        check=True,\n",
    "        text=True,\n",
    "        shell=True,\n",
    "    )\n",
    "    # print(result.stdout)"
   ]
  },
  {
   "cell_type": "code",
   "execution_count": 129,
   "metadata": {},
   "outputs": [],
   "source": [
    "# Call the sonarqube api to get the metrics of the project\n",
    "def get_metrics() -> dict:\n",
    "    result = sp.run(\n",
    "        [\n",
    "            \"curl.exe\",\n",
    "            f\"{sonarqube_server_url}/api/measures/component?component={demo_repo_name}&metricKeys={code_metrics_query_string}\",\n",
    "        ],\n",
    "        capture_output=True,\n",
    "        check=True,\n",
    "        text=True,\n",
    "        # shell=True,\n",
    "    )\n",
    "    return json.loads(result.stdout)"
   ]
  },
  {
   "cell_type": "code",
   "execution_count": 130,
   "metadata": {},
   "outputs": [],
   "source": [
    "# Get metrics of the project\n",
    "def get_metrics_from_version_tags(\n",
    "    tag: str, date: str, timestamp: int, output_dict=metrics_dict\n",
    "):\n",
    "    metrics_result = get_metrics()\n",
    "\n",
    "    output_dict[\"version\"].append(tag)\n",
    "    output_dict[\"release_date\"].append(date)\n",
    "    output_dict[\"timestamp\"].append(timestamp)\n",
    "\n",
    "    for metric in metrics_result[\"component\"][\"measures\"]:\n",
    "        output_dict[metric[\"metric\"]].append(metric[\"value\"])\n",
    "\n",
    "    return output_dict"
   ]
  },
  {
   "cell_type": "code",
   "execution_count": 131,
   "metadata": {},
   "outputs": [
    {
     "data": {
      "text/plain": [
       "CompletedProcess(args=['sonar-scanner', '-h'], returncode=0, stdout='INFO: \\nINFO: usage: sonar-scanner [options]\\nINFO: \\nINFO: Options:\\nINFO:  -D,--define <arg>     Define property\\nINFO:  -h,--help             Display help information\\nINFO:  -v,--version          Display version information\\nINFO:  -X,--debug            Produce execution debug output\\n', stderr='')"
      ]
     },
     "execution_count": 131,
     "metadata": {},
     "output_type": "execute_result"
    }
   ],
   "source": [
    "# A mock call to test sonar-scanner\n",
    "sp.run(\n",
    "    [\"sonar-scanner\", \"-h\"],\n",
    "    capture_output=True,\n",
    "    check=True,\n",
    "    text=True,\n",
    "    shell=True,\n",
    ")"
   ]
  },
  {
   "cell_type": "markdown",
   "metadata": {},
   "source": [
    "## Issues Narrowing from SonarQube\n"
   ]
  },
  {
   "cell_type": "code",
   "execution_count": 132,
   "metadata": {},
   "outputs": [],
   "source": [
    "# A function that can convert given time string into minutes. The time string may include hours, minutes and seconds. It is in the following format: \"1d2h3min\". The days, hours or minutes may be missing. If the string is empty, return 0.\n",
    "\n",
    "\n",
    "def time_str_to_minutes(time: str) -> int:\n",
    "    if time == \"\":\n",
    "        return 0\n",
    "\n",
    "    time = time.replace(\"d\", \" \").replace(\"h\", \" \").replace(\"min\", \" \").split()\n",
    "    time = [int(t) for t in time]\n",
    "\n",
    "    if len(time) == 1:\n",
    "        return time[0]\n",
    "    elif len(time) == 2:\n",
    "        return time[0] * 60 + time[1]\n",
    "    elif len(time) == 3:\n",
    "        return time[0] * 24 * 60 + time[1] * 60 + time[2]\n",
    "    else:\n",
    "        raise ValueError(\"Invalid time string\")"
   ]
  },
  {
   "cell_type": "code",
   "execution_count": 133,
   "metadata": {},
   "outputs": [],
   "source": [
    "def get_quality_issue_values_from_api(clean_code_category: str, severity: str):\n",
    "    \"\"\"\n",
    "    return a tuple of (total_security_issues, total_reliability_issues, total_maintainability_issues, total_debt)\n",
    "    \"\"\"\n",
    "\n",
    "    result = sp.run(\n",
    "        [\n",
    "            \"curl.exe\",\n",
    "            f\"{sonarqube_server_url}/api/issues/search?cleanCodeAttributeCategories={clean_code_category}\",\n",
    "        ],\n",
    "        capture_output=True,\n",
    "        check=True,\n",
    "        text=True,\n",
    "        # shell=True,\n",
    "    )\n",
    "\n",
    "    issues_list = json.loads(result.stdout)[\"issues\"]\n",
    "\n",
    "    # Get the software quality, maintainability and debt from the issues list\n",
    "    filtered_issues_list = [\n",
    "        {\n",
    "            \"software_quality_category\": issue[\"impacts\"][0][\"softwareQuality\"],\n",
    "            \"severity\": issue[\"impacts\"][0][\"severity\"],\n",
    "            \"debt\": time_str_to_minutes(issue[\"debt\"]),\n",
    "        }\n",
    "        for issue in issues_list\n",
    "        if issue[\"type\"] == \"CODE_SMELL\" and issue[\"impacts\"][0][\"severity\"] == severity\n",
    "    ]\n",
    "\n",
    "    # Get the total number of security, reliability and maintainability quality issue count and debt\n",
    "    total_security_issues = len(\n",
    "        [\n",
    "            issue\n",
    "            for issue in filtered_issues_list\n",
    "            if issue[\"software_quality_category\"] == \"SECURITY\"\n",
    "        ]\n",
    "    )\n",
    "    total_reliability_issues = len(\n",
    "        [\n",
    "            issue\n",
    "            for issue in filtered_issues_list\n",
    "            if issue[\"software_quality_category\"] == \"RELIABILITY\"\n",
    "        ]\n",
    "    )\n",
    "    total_maintainability_issues = len(\n",
    "        [\n",
    "            issue\n",
    "            for issue in filtered_issues_list\n",
    "            if issue[\"software_quality_category\"] == \"MAINTAINABILITY\"\n",
    "        ]\n",
    "    )\n",
    "\n",
    "    total_debt = sum([issue[\"debt\"] for issue in filtered_issues_list])\n",
    "\n",
    "    return (\n",
    "        total_security_issues,\n",
    "        total_reliability_issues,\n",
    "        total_maintainability_issues,\n",
    "        total_debt,\n",
    "    )"
   ]
  },
  {
   "cell_type": "code",
   "execution_count": 134,
   "metadata": {},
   "outputs": [],
   "source": [
    "def extract_clean_code_data(tag: str, date: str, timestamp: int):\n",
    "    for clean_code_category in clean_code_attribute_categories:\n",
    "        clean_code_attribute_dict[clean_code_category][\"version\"].append(tag)\n",
    "        clean_code_attribute_dict[clean_code_category][\"date\"].append(date)\n",
    "        clean_code_attribute_dict[clean_code_category][\"timestamp\"].append(timestamp)\n",
    "\n",
    "        for severity in severities:\n",
    "            (\n",
    "                total_security_issues,\n",
    "                total_reliability_issues,\n",
    "                total_maintainability_issues,\n",
    "                total_debt,\n",
    "            ) = get_quality_issue_values_from_api(clean_code_category, severity)\n",
    "\n",
    "            clean_code_attribute_dict[clean_code_category][\n",
    "                f\"security_issues_{severity.lower()}\"\n",
    "            ].append(total_security_issues)\n",
    "\n",
    "            clean_code_attribute_dict[clean_code_category][\n",
    "                f\"reliability_issues_{severity.lower()}\"\n",
    "            ].append(total_reliability_issues)\n",
    "\n",
    "            clean_code_attribute_dict[clean_code_category][\n",
    "                f\"maintainability_issues_{severity.lower()}\"\n",
    "            ].append(total_maintainability_issues)\n",
    "\n",
    "            clean_code_attribute_dict[clean_code_category][\n",
    "                f\"total_debt_{severity.lower()}\"\n",
    "            ].append(total_debt)"
   ]
  },
  {
   "cell_type": "code",
   "execution_count": 135,
   "metadata": {},
   "outputs": [
    {
     "name": "stdout",
     "output_type": "stream",
     "text": [
      "\n"
     ]
    }
   ],
   "source": [
    "for tag_and_timestamp in tags_and_timestamps[:1]:\n",
    "    tag, date, _ = tag_and_timestamp\n",
    "    checkout_to_tag(demo_repo_path, tag)\n",
    "    sonar_scan(demo_repo_path, tag)\n",
    "    get_metrics_from_version_tags(*tag_and_timestamp)\n",
    "    extract_clean_code_data(*tag_and_timestamp)"
   ]
  },
  {
   "cell_type": "code",
   "execution_count": 136,
   "metadata": {},
   "outputs": [
    {
     "data": {
      "text/html": [
       "<div>\n",
       "<style scoped>\n",
       "    .dataframe tbody tr th:only-of-type {\n",
       "        vertical-align: middle;\n",
       "    }\n",
       "\n",
       "    .dataframe tbody tr th {\n",
       "        vertical-align: top;\n",
       "    }\n",
       "\n",
       "    .dataframe thead th {\n",
       "        text-align: right;\n",
       "    }\n",
       "</style>\n",
       "<table border=\"1\" class=\"dataframe\">\n",
       "  <thead>\n",
       "    <tr style=\"text-align: right;\">\n",
       "      <th></th>\n",
       "      <th>version</th>\n",
       "      <th>release_date</th>\n",
       "      <th>timestamp</th>\n",
       "      <th>sqale_debt_ratio</th>\n",
       "      <th>vulnerabilities</th>\n",
       "      <th>security_rating</th>\n",
       "      <th>sqale_rating</th>\n",
       "      <th>complexity</th>\n",
       "      <th>cognitive_complexity</th>\n",
       "      <th>ncloc</th>\n",
       "    </tr>\n",
       "  </thead>\n",
       "  <tbody>\n",
       "    <tr>\n",
       "      <th>0</th>\n",
       "      <td>0.6.0</td>\n",
       "      <td>2013-12-07</td>\n",
       "      <td>1386462737</td>\n",
       "      <td>1.6</td>\n",
       "      <td>0</td>\n",
       "      <td>1.0</td>\n",
       "      <td>1.0</td>\n",
       "      <td>1274</td>\n",
       "      <td>672</td>\n",
       "      <td>6820</td>\n",
       "    </tr>\n",
       "  </tbody>\n",
       "</table>\n",
       "</div>"
      ],
      "text/plain": [
       "  version release_date   timestamp sqale_debt_ratio vulnerabilities  \\\n",
       "0   0.6.0   2013-12-07  1386462737              1.6               0   \n",
       "\n",
       "  security_rating sqale_rating complexity cognitive_complexity ncloc  \n",
       "0             1.0          1.0       1274                  672  6820  "
      ]
     },
     "execution_count": 136,
     "metadata": {},
     "output_type": "execute_result"
    }
   ],
   "source": [
    "metrics_dataset = pd.DataFrame(metrics_dict, index=None)\n",
    "metrics_dataset"
   ]
  },
  {
   "cell_type": "code",
   "execution_count": null,
   "metadata": {},
   "outputs": [],
   "source": [
    "metrics_dataset.to_csv(f\"../Datasets/RQ1/{demo_repo_name}_metrics.csv\")"
   ]
  },
  {
   "cell_type": "code",
   "execution_count": 137,
   "metadata": {},
   "outputs": [
    {
     "name": "stdout",
     "output_type": "stream",
     "text": [
      "  version        date   timestamp  security_issues_low  \\\n",
      "0   0.6.0  2013-12-07  1386462737                    0   \n",
      "\n",
      "   reliability_issues_low  maintainability_issues_low  total_debt_low  \\\n",
      "0                       0                           0               0   \n",
      "\n",
      "   security_issues_medium  reliability_issues_medium  \\\n",
      "0                       0                          0   \n",
      "\n",
      "   maintainability_issues_medium  total_debt_medium  security_issues_high  \\\n",
      "0                              0                  0                     0   \n",
      "\n",
      "   reliability_issues_high  maintainability_issues_high  total_debt_high  \n",
      "0                        0                            0                0  \n",
      "  version        date   timestamp  security_issues_low  \\\n",
      "0   0.6.0  2013-12-07  1386462737                    0   \n",
      "\n",
      "   reliability_issues_low  maintainability_issues_low  total_debt_low  \\\n",
      "0                       0                           0               0   \n",
      "\n",
      "   security_issues_medium  reliability_issues_medium  \\\n",
      "0                       0                          0   \n",
      "\n",
      "   maintainability_issues_medium  total_debt_medium  security_issues_high  \\\n",
      "0                             20                350                     0   \n",
      "\n",
      "   reliability_issues_high  maintainability_issues_high  total_debt_high  \n",
      "0                        0                           80            11705  \n",
      "  version        date   timestamp  security_issues_low  \\\n",
      "0   0.6.0  2013-12-07  1386462737                    0   \n",
      "\n",
      "   reliability_issues_low  maintainability_issues_low  total_debt_low  \\\n",
      "0                       0                          92             477   \n",
      "\n",
      "   security_issues_medium  reliability_issues_medium  \\\n",
      "0                       0                          0   \n",
      "\n",
      "   maintainability_issues_medium  total_debt_medium  security_issues_high  \\\n",
      "0                              2                 10                     0   \n",
      "\n",
      "   reliability_issues_high  maintainability_issues_high  total_debt_high  \n",
      "0                        0                            3               30  \n",
      "  version        date   timestamp  security_issues_low  \\\n",
      "0   0.6.0  2013-12-07  1386462737                    0   \n",
      "\n",
      "   reliability_issues_low  maintainability_issues_low  total_debt_low  \\\n",
      "0                       0                           4               2   \n",
      "\n",
      "   security_issues_medium  reliability_issues_medium  \\\n",
      "0                       0                          0   \n",
      "\n",
      "   maintainability_issues_medium  total_debt_medium  security_issues_high  \\\n",
      "0                             43                242                     0   \n",
      "\n",
      "   reliability_issues_high  maintainability_issues_high  total_debt_high  \n",
      "0                        0                           42              210  \n"
     ]
    }
   ],
   "source": [
    "for clean_code_attribute, attribute_dict in clean_code_attribute_dict.items():\n",
    "    dataframe = pd.DataFrame(attribute_dict, index=None)\n",
    "    print(dataframe)\n",
    "    dataframe.to_csv(\n",
    "        f\"../Datasets/RQ2/{demo_repo_name}/{demo_repo_name}_{clean_code_attribute.lower()}_issues.csv\",\n",
    "        index=False,\n",
    "    )"
   ]
  },
  {
   "cell_type": "code",
   "execution_count": 138,
   "metadata": {},
   "outputs": [],
   "source": [
    "# metrics_dataset.to_csv(f\"../Datasets/{demo_repo_name}_metrics.csv\", index=False)"
   ]
  },
  {
   "cell_type": "code",
   "execution_count": 139,
   "metadata": {},
   "outputs": [],
   "source": [
    "# for clean_code_attribute, attribute_dict in clean_code_attribute_dict.items():\n",
    "#     dataframe = pd.DataFrame(attribute_dict, index=None)\n",
    "#     dataframe.to_csv(\n",
    "#         f\"../Datasets/{demo_repo_name}/{demo_repo_name}_{clean_code_attribute.lower()}_issues.csv\",\n",
    "#         index=False,\n",
    "#     )"
   ]
  },
  {
   "cell_type": "code",
   "execution_count": 140,
   "metadata": {},
   "outputs": [],
   "source": [
    "# # For each version, get the total number of security, reliability and maintainability quality issue count and debt and store them in the corrsponding dictionary based on the clean code category\n",
    "\n",
    "# for tag_and_timestamp in tags_and_timestamps:\n",
    "#     tag, date, timestamp = tag_and_timestamp\n",
    "#     checkout_to_tag(demo_repo_path, tag)\n",
    "#     sonar_scan(demo_repo_path, tag)\n",
    "\n",
    "#     for clean_code_category in clean_code_attribute_categories:\n",
    "#         clean_code_attribute_dict[clean_code_category][\"version\"].append(tag)\n",
    "#         clean_code_attribute_dict[clean_code_category][\"date\"].append(date)\n",
    "#         clean_code_attribute_dict[clean_code_category][\"timestamp\"].append(timestamp)\n",
    "\n",
    "#         for severity in severities:\n",
    "#             (\n",
    "#                 total_security_issues,\n",
    "#                 total_reliability_issues,\n",
    "#                 total_maintainability_issues,\n",
    "#                 total_debt,\n",
    "#             ) = get_quality_issue_values_from_api(clean_code_category, severity)\n",
    "\n",
    "#             clean_code_attribute_dict[clean_code_category][\n",
    "#                 f\"security_issues_{severity.lower()}\"\n",
    "#             ].append(total_security_issues)\n",
    "\n",
    "#             clean_code_attribute_dict[clean_code_category][\n",
    "#                 f\"reliability_issues_{severity.lower()}\"\n",
    "#             ].append(total_reliability_issues)\n",
    "\n",
    "#             clean_code_attribute_dict[clean_code_category][\n",
    "#                 f\"maintainability_issues_{severity.lower()}\"\n",
    "#             ].append(total_maintainability_issues)\n",
    "\n",
    "#             clean_code_attribute_dict[clean_code_category][\n",
    "#                 f\"total_debt_{severity.lower()}\"\n",
    "#             ].append(total_debt)"
   ]
  }
 ],
 "metadata": {
  "kernelspec": {
   "display_name": "venv",
   "language": "python",
   "name": "python3"
  },
  "language_info": {
   "codemirror_mode": {
    "name": "ipython",
    "version": 3
   },
   "file_extension": ".py",
   "mimetype": "text/x-python",
   "name": "python",
   "nbconvert_exporter": "python",
   "pygments_lexer": "ipython3",
   "version": "3.11.4"
  },
  "orig_nbformat": 4
 },
 "nbformat": 4,
 "nbformat_minor": 2
}
