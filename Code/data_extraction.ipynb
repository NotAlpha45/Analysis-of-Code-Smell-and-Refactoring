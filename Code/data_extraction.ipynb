{
 "cells": [
  {
   "cell_type": "markdown",
   "metadata": {},
   "source": [
    "## Scraping Data from CodeClimate\n"
   ]
  },
  {
   "cell_type": "code",
   "execution_count": 1,
   "metadata": {},
   "outputs": [],
   "source": [
    "import requests\n",
    "import json\n",
    "import os\n",
    "from dotenv import load_dotenv\n",
    "import datetime"
   ]
  },
  {
   "cell_type": "code",
   "execution_count": 2,
   "metadata": {},
   "outputs": [
    {
     "data": {
      "text/plain": [
       "True"
      ]
     },
     "execution_count": 2,
     "metadata": {},
     "output_type": "execute_result"
    }
   ],
   "source": [
    "load_dotenv()"
   ]
  },
  {
   "cell_type": "code",
   "execution_count": 3,
   "metadata": {},
   "outputs": [],
   "source": [
    "def iso_time_to_unix_epoch(iso_time: str):\n",
    "    return int(datetime.datetime.strptime(iso_time, \"%Y-%m-%dT%H:%M:%SZ\").timestamp())"
   ]
  },
  {
   "cell_type": "code",
   "execution_count": 4,
   "metadata": {},
   "outputs": [],
   "source": [
    "token = os.getenv(\"CODECLIMATE_ACCESS_TOKEN\")\n",
    "github_token = os.getenv(\"GITHUB_ACCESS_TOKEN\")\n",
    "demo_github_slug = \"NotAlpha45\"\n",
    "demo_repository_name = \"projects_realestate\"\n",
    "default_headers = {\n",
    "    \"Accept\": \"application/vnd.api+json\",\n",
    "    \"Authorization\": f\"Token token={token}\",\n",
    "}\n",
    "github_users_and_repos = {\n",
    "    \"youzan\": \"vant\",\n",
    "}"
   ]
  },
  {
   "cell_type": "code",
   "execution_count": 6,
   "metadata": {},
   "outputs": [
    {
     "data": {
      "text/plain": [
       "{'id': '6559b9e57b97066afb7a5cb3',\n",
       " 'type': 'repos',\n",
       " 'attributes': {'analysis_version': 77760,\n",
       "  'badge_token': '2e25782275e47f284baf',\n",
       "  'branch': 'main',\n",
       "  'created_at': '2023-11-19T07:31:49.567Z',\n",
       "  'delegated_config_repo_id': '',\n",
       "  'diff_coverage_enforced': True,\n",
       "  'diff_coverage_threshold': 50,\n",
       "  'enable_notifications': True,\n",
       "  'github_slug': 'NotAlpha45/projects_realestate',\n",
       "  'human_name': 'projects_realestate',\n",
       "  'last_activity_at': '2023-11-19T07:32:02.483Z',\n",
       "  'test_reporter_id': '646a2b002d3f807414c7f67db045302a3564b68ec5f745bf7cbf80218ec86c41',\n",
       "  'total_coverage_enforced': True,\n",
       "  'vcs_database_id': '720665536',\n",
       "  'vcs_host': 'https://github.com'},\n",
       " 'relationships': {'latest_default_branch_snapshot': {'data': {'id': '6559b9e6678a9d00010464ab',\n",
       "    'type': 'snapshots'}},\n",
       "  'latest_default_branch_test_report': {'data': None},\n",
       "  'account': {'data': None}},\n",
       " 'links': {'self': 'https://codeclimate.com/github/NotAlpha45/projects_realestate',\n",
       "  'services': 'https://api.codeclimate.com/v1/repos/6559b9e57b97066afb7a5cb3/services',\n",
       "  'web_coverage': 'https://codeclimate.com/github/NotAlpha45/projects_realestate/coverage',\n",
       "  'web_issues': 'https://codeclimate.com/github/NotAlpha45/projects_realestate/issues',\n",
       "  'maintainability_badge': 'https://api.codeclimate.com/v1/badges/2e25782275e47f284baf/maintainability',\n",
       "  'test_coverage_badge': 'https://api.codeclimate.com/v1/badges/2e25782275e47f284baf/test_coverage'},\n",
       " 'meta': {'permissions': {'admin': True}}}"
      ]
     },
     "execution_count": 6,
     "metadata": {},
     "output_type": "execute_result"
    }
   ],
   "source": [
    "response = requests.get(\n",
    "    url=f\"https://api.codeclimate.com/v1/repos?github_slug={demo_github_slug}/{demo_repository_name}\",\n",
    "    headers=default_headers,\n",
    ")\n",
    "\n",
    "repository_data = response.json()[\"data\"][0]\n",
    "repository_data"
   ]
  },
  {
   "cell_type": "code",
   "execution_count": 7,
   "metadata": {},
   "outputs": [
    {
     "data": {
      "text/plain": [
       "'6559b9e57b97066afb7a5cb3'"
      ]
     },
     "execution_count": 7,
     "metadata": {},
     "output_type": "execute_result"
    }
   ],
   "source": [
    "repository_id = repository_data[\"id\"]\n",
    "repository_id"
   ]
  },
  {
   "cell_type": "code",
   "execution_count": 8,
   "metadata": {},
   "outputs": [
    {
     "data": {
      "text/plain": [
       "'6559b9e6678a9d00010464ab'"
      ]
     },
     "execution_count": 8,
     "metadata": {},
     "output_type": "execute_result"
    }
   ],
   "source": [
    "latest_snapshot_id = repository_data[\"relationships\"][\"latest_default_branch_snapshot\"][\n",
    "    \"data\"\n",
    "][\"id\"]\n",
    "latest_snapshot_id"
   ]
  },
  {
   "cell_type": "code",
   "execution_count": 9,
   "metadata": {},
   "outputs": [
    {
     "data": {
      "text/plain": [
       "[{'id': '6559b9e69312d9000100677c',\n",
       "  'type': 'ref_points',\n",
       "  'attributes': {'analyzed': True,\n",
       "   'branch': 'main',\n",
       "   'commit_sha': '0bf2eb07d889b3b3bf286d71a7a010ec930bb71b',\n",
       "   'created_at': '2023-11-19T07:31:50.796Z',\n",
       "   'ref': 'refs/heads/main'},\n",
       "  'relationships': {'snapshot': {'data': {'id': '6559b9e6678a9d00010464ab',\n",
       "     'type': 'snapshots'}}}}]"
      ]
     },
     "execution_count": 9,
     "metadata": {},
     "output_type": "execute_result"
    }
   ],
   "source": [
    "# Get the ref points for the repository\n",
    "\n",
    "response = requests.get(\n",
    "    url=f\"https://api.codeclimate.com/v1/repos/{repository_id}/ref_points\",\n",
    "    headers=default_headers,\n",
    ")\n",
    "\n",
    "ref_points = response.json()[\"data\"]\n",
    "ref_points"
   ]
  },
  {
   "cell_type": "markdown",
   "metadata": {},
   "source": [
    "## Github API Data Extraction\n"
   ]
  },
  {
   "cell_type": "code",
   "execution_count": 10,
   "metadata": {},
   "outputs": [],
   "source": [
    "github_request_headers = {\n",
    "    \"Accept\": \"application/vnd.github.v3+json\",\n",
    "    \"Authorization\": f\"token {github_token}\",\n",
    "}"
   ]
  },
  {
   "cell_type": "code",
   "execution_count": 13,
   "metadata": {},
   "outputs": [
    {
     "data": {
      "text/plain": [
       "[{'sha': 'ebedef2bef4454868e719b3fd1056b7ec03b9d5d',\n",
       "  'node_id': 'C_kwDOKtchNdoAKGViZWRlZjJiZWY0NDU0ODY4ZTcxOWIzZmQxMDU2YjdlYzAzYjlkNWQ',\n",
       "  'commit': {'author': {'name': 'Abi Raja',\n",
       "    'email': 'abimanyuraja@gmail.com',\n",
       "    'date': '2023-11-16T17:26:29Z'},\n",
       "   'committer': {'name': 'GitHub',\n",
       "    'email': 'noreply@github.com',\n",
       "    'date': '2023-11-16T17:26:29Z'},\n",
       "   'message': 'Update README.md',\n",
       "   'tree': {'sha': '1b68d45e1d3b93390a9be4ad1a6c6854921f01d2',\n",
       "    'url': 'https://api.github.com/repos/abi/screenshot-to-code/git/trees/1b68d45e1d3b93390a9be4ad1a6c6854921f01d2'},\n",
       "   'url': 'https://api.github.com/repos/abi/screenshot-to-code/git/commits/ebedef2bef4454868e719b3fd1056b7ec03b9d5d',\n",
       "   'comment_count': 0,\n",
       "   'verification': {'verified': True,\n",
       "    'reason': 'valid',\n",
       "    'signature': '-----BEGIN PGP SIGNATURE-----\\n\\nwsBcBAABCAAQBQJlVlDFCRBK7hj4Ov3rIwAAUrQIAExq8HE6I2vPNK+dCxKsYTpv\\nZcQi9b3Qjt2/0Lb2Nmt8lyxVkpzwvZObnYUnjLot9qtKsmQPCts+LPkigh2FW7yT\\nUjTvuvPyMNB7ZBvLpqGnujVZ0tu6cT2LHueb6evdvSyP+cvLjzFBqWCjab5F63IN\\nh+mZwuBUyJOa9LuqiePZa3sDGYcCfVeFf9/imN8SW4K9QgrAi3+cMFNztPu/XifM\\nRnriTvWZ3nXcWtVjbOr90wQPCzTa8FvxMCmXobIbCpJb1PHHbRyaAszMN7dO2GHZ\\nqxNN/7Ibtf8bnGTyNuE4VYLruwoCsAvchm4J8IcDBLFe7c+wcipb8nmW4prVmkU=\\n=Uy31\\n-----END PGP SIGNATURE-----\\n',\n",
       "    'payload': 'tree 1b68d45e1d3b93390a9be4ad1a6c6854921f01d2\\nparent d1945524308a0a5fc81d1da8e848e652d79aa75a\\nauthor Abi Raja <abimanyuraja@gmail.com> 1700155589 -0500\\ncommitter GitHub <noreply@github.com> 1700155589 -0500\\n\\nUpdate README.md'}},\n",
       "  'url': 'https://api.github.com/repos/abi/screenshot-to-code/commits/ebedef2bef4454868e719b3fd1056b7ec03b9d5d',\n",
       "  'html_url': 'https://github.com/abi/screenshot-to-code/commit/ebedef2bef4454868e719b3fd1056b7ec03b9d5d',\n",
       "  'comments_url': 'https://api.github.com/repos/abi/screenshot-to-code/commits/ebedef2bef4454868e719b3fd1056b7ec03b9d5d/comments',\n",
       "  'author': {'login': 'abi',\n",
       "   'id': 23818,\n",
       "   'node_id': 'MDQ6VXNlcjIzODE4',\n",
       "   'avatar_url': 'https://avatars.githubusercontent.com/u/23818?v=4',\n",
       "   'gravatar_id': '',\n",
       "   'url': 'https://api.github.com/users/abi',\n",
       "   'html_url': 'https://github.com/abi',\n",
       "   'followers_url': 'https://api.github.com/users/abi/followers',\n",
       "   'following_url': 'https://api.github.com/users/abi/following{/other_user}',\n",
       "   'gists_url': 'https://api.github.com/users/abi/gists{/gist_id}',\n",
       "   'starred_url': 'https://api.github.com/users/abi/starred{/owner}{/repo}',\n",
       "   'subscriptions_url': 'https://api.github.com/users/abi/subscriptions',\n",
       "   'organizations_url': 'https://api.github.com/users/abi/orgs',\n",
       "   'repos_url': 'https://api.github.com/users/abi/repos',\n",
       "   'events_url': 'https://api.github.com/users/abi/events{/privacy}',\n",
       "   'received_events_url': 'https://api.github.com/users/abi/received_events',\n",
       "   'type': 'User',\n",
       "   'site_admin': False},\n",
       "  'committer': {'login': 'web-flow',\n",
       "   'id': 19864447,\n",
       "   'node_id': 'MDQ6VXNlcjE5ODY0NDQ3',\n",
       "   'avatar_url': 'https://avatars.githubusercontent.com/u/19864447?v=4',\n",
       "   'gravatar_id': '',\n",
       "   'url': 'https://api.github.com/users/web-flow',\n",
       "   'html_url': 'https://github.com/web-flow',\n",
       "   'followers_url': 'https://api.github.com/users/web-flow/followers',\n",
       "   'following_url': 'https://api.github.com/users/web-flow/following{/other_user}',\n",
       "   'gists_url': 'https://api.github.com/users/web-flow/gists{/gist_id}',\n",
       "   'starred_url': 'https://api.github.com/users/web-flow/starred{/owner}{/repo}',\n",
       "   'subscriptions_url': 'https://api.github.com/users/web-flow/subscriptions',\n",
       "   'organizations_url': 'https://api.github.com/users/web-flow/orgs',\n",
       "   'repos_url': 'https://api.github.com/users/web-flow/repos',\n",
       "   'events_url': 'https://api.github.com/users/web-flow/events{/privacy}',\n",
       "   'received_events_url': 'https://api.github.com/users/web-flow/received_events',\n",
       "   'type': 'User',\n",
       "   'site_admin': False},\n",
       "  'parents': [{'sha': 'd1945524308a0a5fc81d1da8e848e652d79aa75a',\n",
       "    'url': 'https://api.github.com/repos/abi/screenshot-to-code/commits/d1945524308a0a5fc81d1da8e848e652d79aa75a',\n",
       "    'html_url': 'https://github.com/abi/screenshot-to-code/commit/d1945524308a0a5fc81d1da8e848e652d79aa75a'}]},\n",
       " {'sha': '640f41619c2445b78e6145e59df2dbfd4ca7d3b3',\n",
       "  'node_id': 'C_kwDOKtchNdoAKDY0MGY0MTYxOWMyNDQ1Yjc4ZTYxNDVlNTlkZjJkYmZkNGNhN2QzYjM',\n",
       "  'commit': {'author': {'name': 'Abi Raja',\n",
       "    'email': 'abimanyuraja@gmail.com',\n",
       "    'date': '2023-11-16T19:43:50Z'},\n",
       "   'committer': {'name': 'Abi Raja',\n",
       "    'email': 'abimanyuraja@gmail.com',\n",
       "    'date': '2023-11-16T19:43:50Z'},\n",
       "   'message': 'prettify code after image generation',\n",
       "   'tree': {'sha': '7675fc33afd70ee28f39b79d2f3bc5dd0d9cc2a9',\n",
       "    'url': 'https://api.github.com/repos/abi/screenshot-to-code/git/trees/7675fc33afd70ee28f39b79d2f3bc5dd0d9cc2a9'},\n",
       "   'url': 'https://api.github.com/repos/abi/screenshot-to-code/git/commits/640f41619c2445b78e6145e59df2dbfd4ca7d3b3',\n",
       "   'comment_count': 0,\n",
       "   'verification': {'verified': False,\n",
       "    'reason': 'unsigned',\n",
       "    'signature': None,\n",
       "    'payload': None}},\n",
       "  'url': 'https://api.github.com/repos/abi/screenshot-to-code/commits/640f41619c2445b78e6145e59df2dbfd4ca7d3b3',\n",
       "  'html_url': 'https://github.com/abi/screenshot-to-code/commit/640f41619c2445b78e6145e59df2dbfd4ca7d3b3',\n",
       "  'comments_url': 'https://api.github.com/repos/abi/screenshot-to-code/commits/640f41619c2445b78e6145e59df2dbfd4ca7d3b3/comments',\n",
       "  'author': {'login': 'abi',\n",
       "   'id': 23818,\n",
       "   'node_id': 'MDQ6VXNlcjIzODE4',\n",
       "   'avatar_url': 'https://avatars.githubusercontent.com/u/23818?v=4',\n",
       "   'gravatar_id': '',\n",
       "   'url': 'https://api.github.com/users/abi',\n",
       "   'html_url': 'https://github.com/abi',\n",
       "   'followers_url': 'https://api.github.com/users/abi/followers',\n",
       "   'following_url': 'https://api.github.com/users/abi/following{/other_user}',\n",
       "   'gists_url': 'https://api.github.com/users/abi/gists{/gist_id}',\n",
       "   'starred_url': 'https://api.github.com/users/abi/starred{/owner}{/repo}',\n",
       "   'subscriptions_url': 'https://api.github.com/users/abi/subscriptions',\n",
       "   'organizations_url': 'https://api.github.com/users/abi/orgs',\n",
       "   'repos_url': 'https://api.github.com/users/abi/repos',\n",
       "   'events_url': 'https://api.github.com/users/abi/events{/privacy}',\n",
       "   'received_events_url': 'https://api.github.com/users/abi/received_events',\n",
       "   'type': 'User',\n",
       "   'site_admin': False},\n",
       "  'committer': {'login': 'abi',\n",
       "   'id': 23818,\n",
       "   'node_id': 'MDQ6VXNlcjIzODE4',\n",
       "   'avatar_url': 'https://avatars.githubusercontent.com/u/23818?v=4',\n",
       "   'gravatar_id': '',\n",
       "   'url': 'https://api.github.com/users/abi',\n",
       "   'html_url': 'https://github.com/abi',\n",
       "   'followers_url': 'https://api.github.com/users/abi/followers',\n",
       "   'following_url': 'https://api.github.com/users/abi/following{/other_user}',\n",
       "   'gists_url': 'https://api.github.com/users/abi/gists{/gist_id}',\n",
       "   'starred_url': 'https://api.github.com/users/abi/starred{/owner}{/repo}',\n",
       "   'subscriptions_url': 'https://api.github.com/users/abi/subscriptions',\n",
       "   'organizations_url': 'https://api.github.com/users/abi/orgs',\n",
       "   'repos_url': 'https://api.github.com/users/abi/repos',\n",
       "   'events_url': 'https://api.github.com/users/abi/events{/privacy}',\n",
       "   'received_events_url': 'https://api.github.com/users/abi/received_events',\n",
       "   'type': 'User',\n",
       "   'site_admin': False},\n",
       "  'parents': [{'sha': 'ebedef2bef4454868e719b3fd1056b7ec03b9d5d',\n",
       "    'url': 'https://api.github.com/repos/abi/screenshot-to-code/commits/ebedef2bef4454868e719b3fd1056b7ec03b9d5d',\n",
       "    'html_url': 'https://github.com/abi/screenshot-to-code/commit/ebedef2bef4454868e719b3fd1056b7ec03b9d5d'}]}]"
      ]
     },
     "execution_count": 13,
     "metadata": {},
     "output_type": "execute_result"
    }
   ],
   "source": [
    "response = requests.get(\n",
    "    url=f\"https://api.github.com/repos/abi/screenshot-to-code/commits\",\n",
    "    headers=github_request_headers,\n",
    ")\n",
    "\n",
    "commits = response.json()\n",
    "commits\n",
    "# Sort the commits by date\n",
    "commits.sort(\n",
    "    key=lambda commit: iso_time_to_unix_epoch(commit[\"commit\"][\"author\"][\"date\"])\n",
    ")\n",
    "commits[:2]"
   ]
  },
  {
   "cell_type": "code",
   "execution_count": 14,
   "metadata": {},
   "outputs": [
    {
     "data": {
      "text/plain": [
       "([{'url': 'https://api.github.com/repos/youzan/vant/releases/94548765',\n",
       "   'tag_name': 'v4.1.0',\n",
       "   'target_commitish': 'main',\n",
       "   'id': 94548765,\n",
       "   'published_at': '2023-03-05T11:47:24Z'},\n",
       "  {'url': 'https://api.github.com/repos/youzan/vant/releases/96106954',\n",
       "   'tag_name': 'v4.1.1',\n",
       "   'target_commitish': 'main',\n",
       "   'id': 96106954,\n",
       "   'published_at': '2023-03-19T12:44:26Z'}],\n",
       " ['v4.1.0',\n",
       "  'v4.1.1',\n",
       "  'v4.1.2',\n",
       "  'v4.2.0',\n",
       "  'v4.2.1',\n",
       "  'v4.3.0',\n",
       "  'v4.3.1',\n",
       "  'v4.3.2',\n",
       "  'v4.4.0',\n",
       "  'v4.4.1',\n",
       "  'v4.5.0',\n",
       "  'v4.6.0',\n",
       "  'v4.6.1',\n",
       "  'v4.6.2',\n",
       "  'v3.6.12',\n",
       "  'v4.6.3',\n",
       "  'v4.6.4-beta.2',\n",
       "  'v4.6.4',\n",
       "  'v4.6.5',\n",
       "  'v4.6.6',\n",
       "  'v4.6.7',\n",
       "  'v4.6.8',\n",
       "  'v2.13.0',\n",
       "  'v4.7.0',\n",
       "  'v4.7.1',\n",
       "  'v2.13.1',\n",
       "  'v4.7.2',\n",
       "  'v2.13.2',\n",
       "  'v4.7.3',\n",
       "  'v4.8.0'])"
      ]
     },
     "execution_count": 14,
     "metadata": {},
     "output_type": "execute_result"
    }
   ],
   "source": [
    "# Get the releases for the repository\n",
    "\n",
    "response = requests.get(\n",
    "    url=f\"https://api.github.com/repos/youzan/vant/releases\",\n",
    "    headers=github_request_headers,\n",
    ")\n",
    "\n",
    "releases = list(response.json())\n",
    "\n",
    "# Sort the releases by published date\n",
    "releases.sort(key=lambda release: iso_time_to_unix_epoch(release[\"published_at\"]))\n",
    "\n",
    "# Take the url, tag_name, target_commitsh, id and published_at fields\n",
    "\n",
    "releases = [\n",
    "    {\n",
    "        \"url\": release[\"url\"],\n",
    "        \"tag_name\": release[\"tag_name\"],\n",
    "        \"target_commitish\": release[\"target_commitish\"],\n",
    "        \"id\": release[\"id\"],\n",
    "        \"published_at\": release[\"published_at\"],\n",
    "    }\n",
    "    for release in releases\n",
    "]\n",
    "\n",
    "tag_names_in_releases = [release[\"tag_name\"] for release in releases]\n",
    "\n",
    "releases[:2], tag_names_in_releases"
   ]
  }
 ],
 "metadata": {
  "kernelspec": {
   "display_name": "venv",
   "language": "python",
   "name": "python3"
  },
  "language_info": {
   "codemirror_mode": {
    "name": "ipython",
    "version": 3
   },
   "file_extension": ".py",
   "mimetype": "text/x-python",
   "name": "python",
   "nbconvert_exporter": "python",
   "pygments_lexer": "ipython3",
   "version": "3.11.4"
  },
  "orig_nbformat": 4
 },
 "nbformat": 4,
 "nbformat_minor": 2
}
