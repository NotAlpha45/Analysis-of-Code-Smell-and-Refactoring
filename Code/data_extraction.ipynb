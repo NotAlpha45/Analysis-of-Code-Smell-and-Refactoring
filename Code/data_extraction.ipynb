{
 "cells": [
  {
   "cell_type": "markdown",
   "metadata": {},
   "source": [
    "## Scraping Data from Github"
   ]
  },
  {
   "cell_type": "code",
   "execution_count": 2,
   "metadata": {},
   "outputs": [],
   "source": [
    "import requests"
   ]
  },
  {
   "cell_type": "code",
   "execution_count": 4,
   "metadata": {},
   "outputs": [],
   "source": [
    "repository_url = \"https://github.com/NotAlpha45/Metrics-Analysis\""
   ]
  },
  {
   "cell_type": "code",
   "execution_count": 21,
   "metadata": {},
   "outputs": [],
   "source": [
    "repository_info = requests.get(repository_url + \"/commits\")\n",
    "lines = list(repository_info.iter_lines())"
   ]
  },
  {
   "cell_type": "code",
   "execution_count": 22,
   "metadata": {},
   "outputs": [
    {
     "ename": "IndexError",
     "evalue": "list index out of range",
     "output_type": "error",
     "traceback": [
      "\u001b[1;31m---------------------------------------------------------------------------\u001b[0m",
      "\u001b[1;31mIndexError\u001b[0m                                Traceback (most recent call last)",
      "Cell \u001b[1;32mIn[22], line 28\u001b[0m\n\u001b[0;32m     25\u001b[0m commit_dates \u001b[39m=\u001b[39m []\n\u001b[0;32m     27\u001b[0m \u001b[39mfor\u001b[39;00m line \u001b[39min\u001b[39;00m commit_lines:\n\u001b[1;32m---> 28\u001b[0m     commit_dates\u001b[39m.\u001b[39mappend(line\u001b[39m.\u001b[39;49msplit(\u001b[39mb\u001b[39;49m\u001b[39m'\u001b[39;49m\u001b[39m<relative-time datetime=\u001b[39;49m\u001b[39m\"\u001b[39;49m\u001b[39m'\u001b[39;49m)[\u001b[39m1\u001b[39;49m]\u001b[39m.\u001b[39msplit(\u001b[39mb\u001b[39m\u001b[39m'\u001b[39m\u001b[39m\"\u001b[39m\u001b[39m'\u001b[39m)[\u001b[39m0\u001b[39m])\n\u001b[0;32m     30\u001b[0m \u001b[39m# Extract the commit authors\u001b[39;00m\n\u001b[0;32m     32\u001b[0m commit_authors \u001b[39m=\u001b[39m []\n",
      "\u001b[1;31mIndexError\u001b[0m: list index out of range"
     ]
    }
   ],
   "source": [
    "# Identify the lines that contain commit history\n",
    "\n",
    "commit_lines = []\n",
    "\n",
    "for line in lines:\n",
    "    if b'<a href=\"/NotAlpha45/Metrics-Analysis/commit/' in line:\n",
    "        commit_lines.append(line)\n",
    "\n",
    "commit_lines"
   ]
  }
 ],
 "metadata": {
  "kernelspec": {
   "display_name": "venv",
   "language": "python",
   "name": "python3"
  },
  "language_info": {
   "codemirror_mode": {
    "name": "ipython",
    "version": 3
   },
   "file_extension": ".py",
   "mimetype": "text/x-python",
   "name": "python",
   "nbconvert_exporter": "python",
   "pygments_lexer": "ipython3",
   "version": "3.11.4"
  },
  "orig_nbformat": 4
 },
 "nbformat": 4,
 "nbformat_minor": 2
}
