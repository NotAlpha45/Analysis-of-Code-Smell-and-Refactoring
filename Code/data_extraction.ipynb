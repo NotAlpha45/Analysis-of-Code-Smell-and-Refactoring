{
 "cells": [
  {
   "cell_type": "markdown",
   "metadata": {},
   "source": [
    "## Scraping Data from Github"
   ]
  },
  {
   "cell_type": "code",
   "execution_count": 58,
   "metadata": {},
   "outputs": [],
   "source": [
    "import requests"
   ]
  },
  {
   "cell_type": "code",
   "execution_count": 59,
   "metadata": {},
   "outputs": [],
   "source": [
    "repository_url = \"https://github.com/NotAlpha45/Metrics-Analysis\""
   ]
  },
  {
   "cell_type": "code",
   "execution_count": 60,
   "metadata": {},
   "outputs": [],
   "source": [
    "repository_info = requests.get(repository_url + \"/commits\")\n",
    "lines = list(repository_info.iter_lines())"
   ]
  },
  {
   "cell_type": "code",
   "execution_count": 61,
   "metadata": {},
   "outputs": [
    {
     "data": {
      "text/plain": [
       "[b'      <a href=\"/NotAlpha45/Metrics-Analysis/commit/e5ede6525fa160d76b5486bfd422cadfbab141c5\" class=\"d-none js-permalink-shortcut\" data-hotkey=\"y\">Permalink</a>']"
      ]
     },
     "execution_count": 61,
     "metadata": {},
     "output_type": "execute_result"
    }
   ],
   "source": [
    "# Identify the lines that contain commit history\n",
    "\n",
    "commit_lines = []\n",
    "\n",
    "for line in lines:\n",
    "    if b'<a href=\"/NotAlpha45/Metrics-Analysis/commit/' in line:\n",
    "        commit_lines.append(line)\n",
    "\n",
    "commit_lines"
   ]
  },
  {
   "cell_type": "markdown",
   "metadata": {},
   "source": [
    "## Scraping Data from CodeClimate"
   ]
  },
  {
   "cell_type": "code",
   "execution_count": 62,
   "metadata": {},
   "outputs": [],
   "source": [
    "import requests\n",
    "import json"
   ]
  },
  {
   "cell_type": "code",
   "execution_count": 63,
   "metadata": {},
   "outputs": [],
   "source": [
    "token = \"84b36445d25ed39c62f2b23981085e17608bac4f\"\n",
    "demo_github_slug = \"NotAlpha45\"\n",
    "demo_repository_name = \"projects_realestate\"\n",
    "default_headers = {\n",
    "    \"Accept\": \"application/vnd.api+json\",\n",
    "    \"Authorization\": f\"Token token={token}\",\n",
    "}"
   ]
  },
  {
   "cell_type": "code",
   "execution_count": 64,
   "metadata": {},
   "outputs": [
    {
     "data": {
      "text/plain": [
       "{'id': '6559b9e57b97066afb7a5cb3',\n",
       " 'type': 'repos',\n",
       " 'attributes': {'analysis_version': 77760,\n",
       "  'badge_token': '2e25782275e47f284baf',\n",
       "  'branch': 'main',\n",
       "  'created_at': '2023-11-19T07:31:49.567Z',\n",
       "  'delegated_config_repo_id': '',\n",
       "  'diff_coverage_enforced': True,\n",
       "  'diff_coverage_threshold': 50,\n",
       "  'enable_notifications': True,\n",
       "  'github_slug': 'NotAlpha45/projects_realestate',\n",
       "  'human_name': 'projects_realestate',\n",
       "  'last_activity_at': '2023-11-19T07:32:02.483Z',\n",
       "  'test_reporter_id': '646a2b002d3f807414c7f67db045302a3564b68ec5f745bf7cbf80218ec86c41',\n",
       "  'total_coverage_enforced': True,\n",
       "  'vcs_database_id': '720665536',\n",
       "  'vcs_host': 'https://github.com'},\n",
       " 'relationships': {'latest_default_branch_snapshot': {'data': {'id': '6559b9e6678a9d00010464ab',\n",
       "    'type': 'snapshots'}},\n",
       "  'latest_default_branch_test_report': {'data': None},\n",
       "  'account': {'data': None}},\n",
       " 'links': {'self': 'https://codeclimate.com/github/NotAlpha45/projects_realestate',\n",
       "  'services': 'https://api.codeclimate.com/v1/repos/6559b9e57b97066afb7a5cb3/services',\n",
       "  'web_coverage': 'https://codeclimate.com/github/NotAlpha45/projects_realestate/coverage',\n",
       "  'web_issues': 'https://codeclimate.com/github/NotAlpha45/projects_realestate/issues',\n",
       "  'maintainability_badge': 'https://api.codeclimate.com/v1/badges/2e25782275e47f284baf/maintainability',\n",
       "  'test_coverage_badge': 'https://api.codeclimate.com/v1/badges/2e25782275e47f284baf/test_coverage'},\n",
       " 'meta': {'permissions': {'admin': True}}}"
      ]
     },
     "execution_count": 64,
     "metadata": {},
     "output_type": "execute_result"
    }
   ],
   "source": [
    "response = requests.get(\n",
    "    url=f\"https://api.codeclimate.com/v1/repos?github_slug={demo_github_slug}/{demo_repository_name}\",\n",
    "    headers=default_headers,\n",
    ")\n",
    "\n",
    "repository_data = response.json()[\"data\"][0]\n",
    "repository_data"
   ]
  },
  {
   "cell_type": "code",
   "execution_count": 65,
   "metadata": {},
   "outputs": [
    {
     "data": {
      "text/plain": [
       "'6559b9e57b97066afb7a5cb3'"
      ]
     },
     "execution_count": 65,
     "metadata": {},
     "output_type": "execute_result"
    }
   ],
   "source": [
    "repository_id = repository_data[\"id\"]\n",
    "repository_id"
   ]
  },
  {
   "cell_type": "code",
   "execution_count": 66,
   "metadata": {},
   "outputs": [
    {
     "data": {
      "text/plain": [
       "'6559b9e6678a9d00010464ab'"
      ]
     },
     "execution_count": 66,
     "metadata": {},
     "output_type": "execute_result"
    }
   ],
   "source": [
    "latest_snapshot_id = repository_data[\"relationships\"][\"latest_default_branch_snapshot\"][\n",
    "    \"data\"\n",
    "][\"id\"]\n",
    "latest_snapshot_id"
   ]
  },
  {
   "cell_type": "code",
   "execution_count": 67,
   "metadata": {},
   "outputs": [
    {
     "data": {
      "text/plain": [
       "[{'id': '6559b9e69312d9000100677c',\n",
       "  'type': 'ref_points',\n",
       "  'attributes': {'analyzed': True,\n",
       "   'branch': 'main',\n",
       "   'commit_sha': '0bf2eb07d889b3b3bf286d71a7a010ec930bb71b',\n",
       "   'created_at': '2023-11-19T07:31:50.796Z',\n",
       "   'ref': 'refs/heads/main'},\n",
       "  'relationships': {'snapshot': {'data': {'id': '6559b9e6678a9d00010464ab',\n",
       "     'type': 'snapshots'}}}}]"
      ]
     },
     "execution_count": 67,
     "metadata": {},
     "output_type": "execute_result"
    }
   ],
   "source": [
    "# Get the ref points for the repository\n",
    "\n",
    "response = requests.get(\n",
    "    url=f\"https://api.codeclimate.com/v1/repos/{repository_id}/ref_points\",\n",
    "    headers=default_headers,\n",
    ")\n",
    "\n",
    "ref_points = response.json()[\"data\"]\n",
    "ref_points"
   ]
  },
  {
   "cell_type": "code",
   "execution_count": 69,
   "metadata": {},
   "outputs": [
    {
     "data": {
      "text/plain": [
       "{'status': 404, 'error': 'Not Found'}"
      ]
     },
     "execution_count": 69,
     "metadata": {},
     "output_type": "execute_result"
    }
   ],
   "source": [
    "# Get the commits\n",
    "\n",
    "response = requests.get(\n",
    "    url=f\"https://api.codeclimate.com/v1/repos/{demo_repository_name}/commits\",\n",
    "    headers=default_headers,\n",
    ")\n",
    "\n",
    "commits = response.json()\n",
    "commits"
   ]
  }
 ],
 "metadata": {
  "kernelspec": {
   "display_name": "venv",
   "language": "python",
   "name": "python3"
  },
  "language_info": {
   "codemirror_mode": {
    "name": "ipython",
    "version": 3
   },
   "file_extension": ".py",
   "mimetype": "text/x-python",
   "name": "python",
   "nbconvert_exporter": "python",
   "pygments_lexer": "ipython3",
   "version": "3.11.4"
  },
  "orig_nbformat": 4
 },
 "nbformat": 4,
 "nbformat_minor": 2
}
